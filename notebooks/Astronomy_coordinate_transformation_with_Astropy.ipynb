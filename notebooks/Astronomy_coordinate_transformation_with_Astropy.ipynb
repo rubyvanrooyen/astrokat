{
  "nbformat": 4,
  "nbformat_minor": 0,
  "metadata": {
    "colab": {
      "name": "Astronomy coordinate transformation with Astropy.ipynb",
      "provenance": [],
      "authorship_tag": "ABX9TyMnYxL/ec0GUqOtwi2nAb1k",
      "include_colab_link": true
    },
    "kernelspec": {
      "name": "python3",
      "display_name": "Python 3"
    },
    "language_info": {
      "name": "python"
    }
  },
  "cells": [
    {
      "cell_type": "markdown",
      "metadata": {
        "id": "view-in-github",
        "colab_type": "text"
      },
      "source": [
        "<a href=\"https://colab.research.google.com/github/rubyvanrooyen/astrokat/blob/rvr_observations/notebooks/Astronomy_coordinate_transformation_with_Astropy.ipynb\" target=\"_parent\"><img src=\"https://colab.research.google.com/assets/colab-badge.svg\" alt=\"Open In Colab\"/></a>"
      ]
    },
    {
      "cell_type": "markdown",
      "metadata": {
        "id": "1Jo-_kbZfwsT"
      },
      "source": [
        "# Astromical Coordinate Systems\n",
        "https://docs.astropy.org/en/stable/coordinates/index.html"
      ]
    },
    {
      "cell_type": "code",
      "metadata": {
        "id": "QVMaPn_gdVvw"
      },
      "source": [
        "from astropy.coordinates import SkyCoord, AltAz\n",
        "from astropy.coordinates import Longitude, Latitude, EarthLocation\n",
        "from astropy.coordinates import Galactic, ICRS\n",
        "from astropy.time import Time\n",
        "\n",
        "import astropy.units as u"
      ],
      "execution_count": 9,
      "outputs": []
    },
    {
      "cell_type": "markdown",
      "metadata": {
        "id": "JZ6lxuhljPBF"
      },
      "source": [
        "Do this to get updated IERS B values into astropy"
      ]
    },
    {
      "cell_type": "code",
      "metadata": {
        "id": "SipFo2q1jMB1"
      },
      "source": [
        "from astropy.utils import iers\n",
        "from astropy.utils import data\n",
        "iers_b = iers.IERS_B.open(data.download_file(iers.IERS_B_URL, cache=True))\n",
        "iers_auto = iers.IERS_Auto.open()"
      ],
      "execution_count": 10,
      "outputs": []
    },
    {
      "cell_type": "markdown",
      "metadata": {
        "id": "rwtIpmGPa3AX"
      },
      "source": [
        "# MeerKAT telescope location"
      ]
    },
    {
      "cell_type": "code",
      "metadata": {
        "id": "KMw53oCra2sE"
      },
      "source": [
        "# reference position is given in geodetic coordinates (lat, lon, height)\n",
        "telescope = EarthLocation.from_geodetic(Longitude('21:26:38.0', u.degree, wrap_angle=180. * u.degree, copy=False),\n",
        "                                        Latitude('-30:42:39.8', u.degree, copy=False),\n",
        "                                        height=u.Quantity(1086.6, u.m, copy=False))"
      ],
      "execution_count": 11,
      "outputs": []
    },
    {
      "cell_type": "code",
      "metadata": {
        "colab": {
          "base_uri": "https://localhost:8080/"
        },
        "id": "EyjQwe-iEFCV",
        "outputId": "46a2dcef-fe42-4f8f-daa0-334563ea850d"
      },
      "source": [
        "print(telescope)"
      ],
      "execution_count": 12,
      "outputs": [
        {
          "output_type": "stream",
          "text": [
            "(5109360.13332123, 2006852.58604291, -3238948.12747888) m\n"
          ],
          "name": "stdout"
        }
      ]
    },
    {
      "cell_type": "markdown",
      "metadata": {
        "id": "2aYXnH-pfcAp"
      },
      "source": [
        "# Observation time"
      ]
    },
    {
      "cell_type": "code",
      "metadata": {
        "id": "9sQMysYMdMYf"
      },
      "source": [
        "# https://docs.astropy.org/en/stable/api/astropy.time.Time.html\n",
        "# obs_time = Time(obs_time, format='datetime', scale='utc')\n",
        "#obs_time  = Time('2019-06-12 16:05:18') \n",
        "obs_time  = Time('2018-07-23 18:00:00') \n",
        "observer = AltAz(location=telescope, obstime=obs_time)"
      ],
      "execution_count": 13,
      "outputs": []
    },
    {
      "cell_type": "markdown",
      "metadata": {
        "id": "Arb6xH9WZ7bO"
      },
      "source": [
        "# Equatorial to Horizontal coordinate systems\n",
        "$(Ra, Dec) \\rightarrow (Alt, Az)$"
      ]
    },
    {
      "cell_type": "code",
      "metadata": {
        "colab": {
          "base_uri": "https://localhost:8080/"
        },
        "id": "8Oni5g_wZrjR",
        "outputId": "4ac7dba0-3517-4dcd-dd2b-5c4763089e08"
      },
      "source": [
        "def eq2hor(ra_hms, dec_dms, observer):\n",
        "    target = SkyCoord(ra=ra_hms, dec=dec_dms, frame='icrs')\n",
        "    tgt_altaz = target.transform_to(observer)\n",
        "    return tgt_altaz.alt.deg, tgt_altaz.az.deg\n",
        "\n",
        "# J1939-6342\n",
        "name = 'J1939-6342'\n",
        "ra = '19h39m25.0264s'  # HH:MM:SS.f\n",
        "dec = '-63d42m45.624s'  # DD:MM:SS.f\n",
        "print(f'Observer target {name} (RA, Dec) = ({ra}, {dec}) @ {obs_time}')\n",
        "alt, az = eq2hor(ra, dec, observer)\n",
        "print(f'Point MKT to (Az, El) = ({az}, {alt})')"
      ],
      "execution_count": 14,
      "outputs": [
        {
          "output_type": "stream",
          "text": [
            "Observer target J1939-6342 (RA, Dec) = (19h39m25.0264s, -63d42m45.624s) @ 2018-07-23 18:00:00.000\n",
            "Point MKT to (Az, El) = (149.43175085428996, 39.36652188083099)\n"
          ],
          "name": "stdout"
        }
      ]
    },
    {
      "cell_type": "markdown",
      "metadata": {
        "id": "zzEYtdH_jEFe"
      },
      "source": [
        "# Horizontal to Equatorial coordinate systems\n",
        "$(Az, Elev) \\rightarrow (Ra, Dec)$"
      ]
    },
    {
      "cell_type": "code",
      "metadata": {
        "colab": {
          "base_uri": "https://localhost:8080/"
        },
        "id": "mZBGXFIEi66f",
        "outputId": "403c4eaa-9e74-4421-a2cf-6eb4516c2fa7"
      },
      "source": [
        "def hor2eq(az_deg, el_deg, location, obstime):\n",
        "    pointing = AltAz(alt=el_deg*u.deg, az=az_deg*u.deg, location=location, obstime=obstime)\n",
        "    pnt_radec = pointing.transform_to(ICRS())\n",
        "    return pnt_radec.ra.hms, pnt_radec.dec.dms\n",
        "\n",
        "az = 50.26731\n",
        "elev = 43.70517\n",
        "print(f'Point MKT to (Az, El) = ({az}, {elev}) @ {obs_time}')\n",
        "ra, dec = hor2eq(az, elev, telescope, obs_time)\n",
        "print(f'Observer target {name} (RA, Dec) = ({int(ra.h)}:{int(ra.m)}:{ra.s:.3f}, {int(dec.d)}:{int(dec.m)}:{dec.s:.3f})')"
      ],
      "execution_count": 15,
      "outputs": [
        {
          "output_type": "stream",
          "text": [
            "Point MKT to (Az, El) = (50.26731, 43.70517) @ 2018-07-23 18:00:00.000\n",
            "Observer target J1939-6342 (RA, Dec) = (17:45:46.653, 2:32:54.015)\n"
          ],
          "name": "stdout"
        }
      ]
    },
    {
      "cell_type": "markdown",
      "metadata": {
        "id": "bpXCTDREpwCG"
      },
      "source": [
        "# Galactic to Equatorial coordinate systems\n",
        "$(l, b) \\rightarrow (Ra, Dec)$"
      ]
    },
    {
      "cell_type": "code",
      "metadata": {
        "colab": {
          "base_uri": "https://localhost:8080/"
        },
        "id": "GsghdiWli6xI",
        "outputId": "92d5fa3b-f693-49dd-e07d-c8751999b623"
      },
      "source": [
        "def gal2eq(l, b):\n",
        "    gal_coord = SkyCoord(l=l, b=b, frame=Galactic)\n",
        "    print(gal_coord)\n",
        "    gal_radec = gal_coord.transform_to(ICRS())\n",
        "    print(gal_radec)\n",
        "    return gal_radec.ra.hms, gal_radec.dec.dms\n",
        "\n",
        "name=' T11R00C02'\n",
        "l =  327.8760*u.deg\n",
        "b =  0.9877*u.deg\n",
        "ra, dec = gal2eq(l, b)\n",
        "\n",
        "print(f'Galactic {name} (l, b) = ({l}, {b})')\n",
        "print(f'Equatorial {name} (RA, Dec) = ({int(ra.h)}:{int(ra.m)}:{ra.s:.3f}, {int(dec.d)}:{abs(int(dec.m))}:{abs(dec.s):.3f})')"
      ],
      "execution_count": 16,
      "outputs": [
        {
          "output_type": "stream",
          "text": [
            "<SkyCoord (Galactic): (l, b) in deg\n",
            "    (327.876, 0.9877)>\n",
            "<SkyCoord (ICRS): (ra, dec) in deg\n",
            "    (237.38390274, -53.03374516)>\n",
            "Galactic  T11R00C02 (l, b) = (327.876 deg, 0.9877 deg)\n",
            "Equatorial  T11R00C02 (RA, Dec) = (15:49:32.137, -53:2:1.483)\n"
          ],
          "name": "stdout"
        }
      ]
    },
    {
      "cell_type": "code",
      "metadata": {
        "id": "KI7fTDwBZraV"
      },
      "source": [
        ""
      ],
      "execution_count": 16,
      "outputs": []
    },
    {
      "cell_type": "code",
      "metadata": {
        "id": "XaThxxvvZrJV"
      },
      "source": [
        ""
      ],
      "execution_count": 16,
      "outputs": []
    }
  ]
}