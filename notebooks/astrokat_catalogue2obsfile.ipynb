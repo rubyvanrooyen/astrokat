{
  "nbformat": 4,
  "nbformat_minor": 0,
  "metadata": {
    "colab": {
      "name": "astrokat-catalogue2obsfile.ipynb",
      "provenance": [],
      "toc_visible": true,
      "authorship_tag": "ABX9TyPC+Wy3HNsH6jSmG1sMhoYN",
      "include_colab_link": true
    },
    "kernelspec": {
      "name": "python3",
      "display_name": "Python 3"
    }
  },
  "cells": [
    {
      "cell_type": "markdown",
      "metadata": {
        "id": "view-in-github",
        "colab_type": "text"
      },
      "source": [
        "<a href=\"https://colab.research.google.com/github/rubyvanrooyen/astrokat/blob/colab_helper_interface/notebooks/astrokat_catalogue2obsfile.ipynb\" target=\"_parent\"><img src=\"https://colab.research.google.com/assets/colab-badge.svg\" alt=\"Open In Colab\"/></a>"
      ]
    },
    {
      "cell_type": "markdown",
      "metadata": {
        "id": "KVAI_BM-eZf8"
      },
      "source": [
        "# AstroKAT catalogue to observation file\n",
        "The minimum required information for any observation is a list of observation targets specified as one target per line, using comma separated formatting to provide the relevant target information.\n",
        "\n",
        "For more detail refer to the\n",
        "[Catalogues to observation files](https://github.com/ska-sa/astrokat/wiki/Catalogues-to-observation-files)\n",
        "documentation on the\n",
        "[AstroKAT](https://github.com/ska-sa/astrokat/wiki)\n",
        "wiki page.\n"
      ]
    },
    {
      "cell_type": "markdown",
      "metadata": {
        "id": "qeel-oiezpX_"
      },
      "source": [
        "## Installation and setup"
      ]
    },
    {
      "cell_type": "code",
      "metadata": {
        "id": "Qitxbc-n62r7",
        "colab": {
          "base_uri": "https://localhost:8080/"
        },
        "outputId": "a072c50d-478e-4889-c1e2-eebe2617ee8a"
      },
      "source": [
        "!pip install git+https://github.com/ska-sa/astrokat.git"
      ],
      "execution_count": 1,
      "outputs": [
        {
          "output_type": "stream",
          "text": [
            "Collecting git+https://github.com/ska-sa/astrokat.git\n",
            "  Cloning https://github.com/ska-sa/astrokat.git to /tmp/pip-req-build-8_xnsfsr\n",
            "  Running command git clone -q https://github.com/ska-sa/astrokat.git /tmp/pip-req-build-8_xnsfsr\n",
            "  Installing build dependencies ... \u001b[?25l\u001b[?25hdone\n",
            "  Getting requirements to build wheel ... \u001b[?25l\u001b[?25hdone\n",
            "  Installing backend dependencies ... \u001b[?25l\u001b[?25hdone\n",
            "    Preparing wheel metadata ... \u001b[?25l\u001b[?25hdone\n",
            "Requirement already satisfied: matplotlib in /usr/local/lib/python3.7/dist-packages (from astrokat==0.1.dev581+master.32445ac) (3.2.2)\n",
            "Requirement already satisfied: numpy in /usr/local/lib/python3.7/dist-packages (from astrokat==0.1.dev581+master.32445ac) (1.19.5)\n",
            "Requirement already satisfied: pyyaml in /usr/local/lib/python3.7/dist-packages (from astrokat==0.1.dev581+master.32445ac) (3.13)\n",
            "Collecting pyephem\n",
            "  Downloading https://files.pythonhosted.org/packages/8e/02/1eade827452880961bc4657df24f72e7a76d764abff3e666433e1c8d1980/pyephem-9.99.tar.gz\n",
            "Collecting katpoint\n",
            "\u001b[?25l  Downloading https://files.pythonhosted.org/packages/f4/ef/acc4889c943e58386d05127e5b907f209320cd5f0de124c2b4c5c5626cce/katpoint-0.9-py2.py3-none-any.whl (94kB)\n",
            "\u001b[K     |████████████████████████████████| 102kB 4.4MB/s \n",
            "\u001b[?25hRequirement already satisfied: pyparsing!=2.0.4,!=2.1.2,!=2.1.6,>=2.0.1 in /usr/local/lib/python3.7/dist-packages (from matplotlib->astrokat==0.1.dev581+master.32445ac) (2.4.7)\n",
            "Requirement already satisfied: python-dateutil>=2.1 in /usr/local/lib/python3.7/dist-packages (from matplotlib->astrokat==0.1.dev581+master.32445ac) (2.8.1)\n",
            "Requirement already satisfied: cycler>=0.10 in /usr/local/lib/python3.7/dist-packages (from matplotlib->astrokat==0.1.dev581+master.32445ac) (0.10.0)\n",
            "Requirement already satisfied: kiwisolver>=1.0.1 in /usr/local/lib/python3.7/dist-packages (from matplotlib->astrokat==0.1.dev581+master.32445ac) (1.3.1)\n",
            "Requirement already satisfied: ephem in /usr/local/lib/python3.7/dist-packages (from pyephem->astrokat==0.1.dev581+master.32445ac) (3.7.7.1)\n",
            "Requirement already satisfied: future in /usr/local/lib/python3.7/dist-packages (from katpoint->astrokat==0.1.dev581+master.32445ac) (0.16.0)\n",
            "Requirement already satisfied: six>=1.5 in /usr/local/lib/python3.7/dist-packages (from python-dateutil>=2.1->matplotlib->astrokat==0.1.dev581+master.32445ac) (1.15.0)\n",
            "Building wheels for collected packages: astrokat\n",
            "  Building wheel for astrokat (PEP 517) ... \u001b[?25l\u001b[?25hdone\n",
            "  Created wheel for astrokat: filename=astrokat-0.1.dev581+master.32445ac-cp37-none-any.whl size=57703 sha256=e8909978d2d67d399c40ae10ffd8c6975d3899cfb8795a1d4d8418d10ebb58c8\n",
            "  Stored in directory: /tmp/pip-ephem-wheel-cache-xo0hbcgg/wheels/4c/42/c4/982808ef2b9b2d88f345d5e8b81c563a18023a782b006c3ec8\n",
            "Successfully built astrokat\n",
            "Building wheels for collected packages: pyephem\n",
            "  Building wheel for pyephem (setup.py) ... \u001b[?25l\u001b[?25hdone\n",
            "  Created wheel for pyephem: filename=pyephem-9.99-cp37-none-any.whl size=1570 sha256=164b10b6d91c78157ca9223e70aa37eb6c0f5fcb36a0aea8c17764117a82eab1\n",
            "  Stored in directory: /root/.cache/pip/wheels/9d/c2/8d/c7117f6ac25cad94939c5dbbddbb4ba312e0b808edf11912a6\n",
            "Successfully built pyephem\n",
            "Installing collected packages: pyephem, katpoint, astrokat\n",
            "Successfully installed astrokat-0.1.dev581+master.32445ac katpoint-0.9 pyephem-9.99\n"
          ],
          "name": "stdout"
        }
      ]
    },
    {
      "cell_type": "code",
      "metadata": {
        "id": "pghftjCn6_yX",
        "colab": {
          "base_uri": "https://localhost:8080/"
        },
        "outputId": "5f151c03-3787-480c-f24e-c113f397b2bc"
      },
      "source": [
        "!git clone https://github.com/ska-sa/astrokat.git"
      ],
      "execution_count": 2,
      "outputs": [
        {
          "output_type": "stream",
          "text": [
            "Cloning into 'astrokat'...\n",
            "remote: Enumerating objects: 185, done.\u001b[K\n",
            "remote: Counting objects: 100% (185/185), done.\u001b[K\n",
            "remote: Compressing objects: 100% (118/118), done.\u001b[K\n",
            "remote: Total 2733 (delta 105), reused 126 (delta 66), pack-reused 2548\u001b[K\n",
            "Receiving objects: 100% (2733/2733), 5.39 MiB | 21.98 MiB/s, done.\n",
            "Resolving deltas: 100% (1890/1890), done.\n"
          ],
          "name": "stdout"
        }
      ]
    },
    {
      "cell_type": "code",
      "metadata": {
        "id": "vWXuuytdD4HF"
      },
      "source": [
        "# remove between the comment after merge"
      ],
      "execution_count": 3,
      "outputs": []
    },
    {
      "cell_type": "code",
      "metadata": {
        "id": "c7fwQOpAzLbv",
        "colab": {
          "base_uri": "https://localhost:8080/"
        },
        "outputId": "b73fcd15-1f47-440b-9192-a8b735595ed6"
      },
      "source": [
        "!pip install git+https://github.com/rubyvanrooyen/astrokat.git@noncelestial_observations"
      ],
      "execution_count": 1,
      "outputs": [
        {
          "output_type": "stream",
          "text": [
            "Collecting git+https://github.com/rubyvanrooyen/astrokat.git@noncelestial_observations\n",
            "  Cloning https://github.com/rubyvanrooyen/astrokat.git (to revision noncelestial_observations) to /tmp/pip-req-build-7aodmdtn\n",
            "  Running command git clone -q https://github.com/rubyvanrooyen/astrokat.git /tmp/pip-req-build-7aodmdtn\n",
            "  Running command git checkout -b noncelestial_observations --track origin/noncelestial_observations\n",
            "  Switched to a new branch 'noncelestial_observations'\n",
            "  Branch 'noncelestial_observations' set up to track remote branch 'noncelestial_observations' from 'origin'.\n",
            "  Installing build dependencies ... \u001b[?25l\u001b[?25hdone\n",
            "  Getting requirements to build wheel ... \u001b[?25l\u001b[?25hdone\n",
            "  Installing backend dependencies ... \u001b[?25l\u001b[?25hdone\n",
            "    Preparing wheel metadata ... \u001b[?25l\u001b[?25hdone\n",
            "Requirement already satisfied: matplotlib in /usr/local/lib/python3.7/dist-packages (from astrokat==0.1.dev589+noncelestial.observations.4276b6a) (3.2.2)\n",
            "Requirement already satisfied: numpy in /usr/local/lib/python3.7/dist-packages (from astrokat==0.1.dev589+noncelestial.observations.4276b6a) (1.19.5)\n",
            "Collecting katpoint\n",
            "\u001b[?25l  Downloading https://files.pythonhosted.org/packages/f4/ef/acc4889c943e58386d05127e5b907f209320cd5f0de124c2b4c5c5626cce/katpoint-0.9-py2.py3-none-any.whl (94kB)\n",
            "\u001b[K     |████████████████████████████████| 102kB 4.7MB/s \n",
            "\u001b[?25hRequirement already satisfied: pyyaml in /usr/local/lib/python3.7/dist-packages (from astrokat==0.1.dev589+noncelestial.observations.4276b6a) (3.13)\n",
            "Collecting pyephem\n",
            "  Downloading https://files.pythonhosted.org/packages/8e/02/1eade827452880961bc4657df24f72e7a76d764abff3e666433e1c8d1980/pyephem-9.99.tar.gz\n",
            "Requirement already satisfied: pyparsing!=2.0.4,!=2.1.2,!=2.1.6,>=2.0.1 in /usr/local/lib/python3.7/dist-packages (from matplotlib->astrokat==0.1.dev589+noncelestial.observations.4276b6a) (2.4.7)\n",
            "Requirement already satisfied: kiwisolver>=1.0.1 in /usr/local/lib/python3.7/dist-packages (from matplotlib->astrokat==0.1.dev589+noncelestial.observations.4276b6a) (1.3.1)\n",
            "Requirement already satisfied: cycler>=0.10 in /usr/local/lib/python3.7/dist-packages (from matplotlib->astrokat==0.1.dev589+noncelestial.observations.4276b6a) (0.10.0)\n",
            "Requirement already satisfied: python-dateutil>=2.1 in /usr/local/lib/python3.7/dist-packages (from matplotlib->astrokat==0.1.dev589+noncelestial.observations.4276b6a) (2.8.1)\n",
            "Requirement already satisfied: future in /usr/local/lib/python3.7/dist-packages (from katpoint->astrokat==0.1.dev589+noncelestial.observations.4276b6a) (0.16.0)\n",
            "Requirement already satisfied: ephem in /usr/local/lib/python3.7/dist-packages (from pyephem->astrokat==0.1.dev589+noncelestial.observations.4276b6a) (3.7.7.1)\n",
            "Requirement already satisfied: six in /usr/local/lib/python3.7/dist-packages (from cycler>=0.10->matplotlib->astrokat==0.1.dev589+noncelestial.observations.4276b6a) (1.15.0)\n",
            "Building wheels for collected packages: astrokat\n",
            "  Building wheel for astrokat (PEP 517) ... \u001b[?25l\u001b[?25hdone\n",
            "  Created wheel for astrokat: filename=astrokat-0.1.dev589+noncelestial.observations.4276b6a-cp37-none-any.whl size=61091 sha256=a41179aed5bfc6162afe894c4323f1ccb3744120a6406ecce1ba30cdeef72b49\n",
            "  Stored in directory: /tmp/pip-ephem-wheel-cache-ahboyxhr/wheels/61/ae/36/9bc6678244e1c16294be7d53df1f744db83cafede16813ed96\n",
            "Successfully built astrokat\n",
            "Building wheels for collected packages: pyephem\n",
            "  Building wheel for pyephem (setup.py) ... \u001b[?25l\u001b[?25hdone\n",
            "  Created wheel for pyephem: filename=pyephem-9.99-cp37-none-any.whl size=1570 sha256=8098c1eead98547bcff5cd12ded9939659cb420d72712f45dc6e99bda2b1cd3b\n",
            "  Stored in directory: /root/.cache/pip/wheels/9d/c2/8d/c7117f6ac25cad94939c5dbbddbb4ba312e0b808edf11912a6\n",
            "Successfully built pyephem\n",
            "Installing collected packages: pyephem, katpoint, astrokat\n",
            "Successfully installed astrokat-0.1.dev589+noncelestial.observations.4276b6a katpoint-0.9 pyephem-9.99\n"
          ],
          "name": "stdout"
        }
      ]
    },
    {
      "cell_type": "code",
      "metadata": {
        "id": "tfWgzxd7C6r-",
        "colab": {
          "base_uri": "https://localhost:8080/"
        },
        "outputId": "e0a1c9b3-78ec-4711-876e-2ed020b00308"
      },
      "source": [
        "!git clone --single-branch --branch noncelestial_observations https://github.com/rubyvanrooyen/astrokat.git"
      ],
      "execution_count": 2,
      "outputs": [
        {
          "output_type": "stream",
          "text": [
            "Cloning into 'astrokat'...\n",
            "remote: Enumerating objects: 549, done.\u001b[K\n",
            "remote: Counting objects: 100% (549/549), done.\u001b[K\n",
            "remote: Compressing objects: 100% (202/202), done.\u001b[K\n",
            "remote: Total 2738 (delta 374), reused 501 (delta 346), pack-reused 2189\u001b[K\n",
            "Receiving objects: 100% (2738/2738), 5.38 MiB | 19.14 MiB/s, done.\n",
            "Resolving deltas: 100% (1887/1887), done.\n"
          ],
          "name": "stdout"
        }
      ]
    },
    {
      "cell_type": "code",
      "metadata": {
        "id": "2LgxN5qcDtvr"
      },
      "source": [
        "# remove between the comment after merge"
      ],
      "execution_count": 6,
      "outputs": []
    },
    {
      "cell_type": "code",
      "metadata": {
        "id": "SQypWvRSGFe_"
      },
      "source": [
        "!ln -s /content/astrokat/scripts/astrokat-catalogue2obsfile.py catalogue2obsfile.py"
      ],
      "execution_count": 3,
      "outputs": []
    },
    {
      "cell_type": "markdown",
      "metadata": {
        "id": "TMxNquZEISMp"
      },
      "source": [
        "## User input\n",
        "Upload CSV catalogue containing target coordinates for convertion to observation file"
      ]
    },
    {
      "cell_type": "code",
      "metadata": {
        "id": "hBwVotZqGph5",
        "colab": {
          "resources": {
            "http://localhost:8080/nbextensions/google.colab/files.js": {
              "data": "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",
              "ok": true,
              "headers": [
                [
                  "content-type",
                  "application/javascript"
                ]
              ],
              "status": 200,
              "status_text": ""
            }
          },
          "base_uri": "https://localhost:8080/",
          "height": 89
        },
        "outputId": "0e8bb12a-9a4b-42d3-8471-201b8a76ed12"
      },
      "source": [
        "from google.colab import files\n",
        "uploaded = files.upload()\n",
        "filename = next(iter(uploaded))\n",
        "print(filename)"
      ],
      "execution_count": 4,
      "outputs": [
        {
          "output_type": "display_data",
          "data": {
            "text/html": [
              "\n",
              "     <input type=\"file\" id=\"files-d28eeeb2-ee17-410b-98d4-78e0b000893e\" name=\"files[]\" multiple disabled\n",
              "        style=\"border:none\" />\n",
              "     <output id=\"result-d28eeeb2-ee17-410b-98d4-78e0b000893e\">\n",
              "      Upload widget is only available when the cell has been executed in the\n",
              "      current browser session. Please rerun this cell to enable.\n",
              "      </output>\n",
              "      <script src=\"/nbextensions/google.colab/files.js\"></script> "
            ],
            "text/plain": [
              "<IPython.core.display.HTML object>"
            ]
          },
          "metadata": {
            "tags": []
          }
        },
        {
          "output_type": "stream",
          "text": [
            "Saving sample_targetlist_with_cals.csv to sample_targetlist_with_cals.csv\n",
            "sample_targetlist_with_cals.csv\n"
          ],
          "name": "stdout"
        }
      ]
    },
    {
      "cell_type": "markdown",
      "metadata": {
        "id": "tXTU9AOxIc3j"
      },
      "source": [
        "MeerKAT instrument setup for observation"
      ]
    },
    {
      "cell_type": "code",
      "metadata": {
        "id": "8UVse9DOI0Zx",
        "cellView": "form"
      },
      "source": [
        "#@markdown observation instrument product configuration\n",
        "product =  'c856M4k' #@param {type:\"string\"}\n",
        "# add lists with values allowed -- and add standard imaging modes\n",
        "# text_and_dropdown = 'value' #@param [\"1st option\", \"2nd option\", \"3rd option\"] {allow-input: true}\n",
        "\n",
        "#@markdown observation band\n",
        "band = 'L' #@param [\"L\", \"UHF\", \"X\", \"S\"]\n",
        "\n",
        "#@markdown averaging time per dump [sec]\n",
        "integration_period = 8.0 #@param {type:\"number\"}"
      ],
      "execution_count": 5,
      "outputs": []
    },
    {
      "cell_type": "markdown",
      "metadata": {
        "id": "BAT9wtSxK2mf"
      },
      "source": [
        "Target observation strategy.    \n",
        "Tracking a target for imaging or spectral line observations."
      ]
    },
    {
      "cell_type": "code",
      "metadata": {
        "id": "zKpeRGd3K90J",
        "cellView": "form"
      },
      "source": [
        "#@markdown observation start LST [HH:MM] (-1 for auto)\n",
        "lst = -1 #@param {type:\"number\"}\n",
        "\n",
        "#@markdown default target track duration [sec]\n",
        "target_duration = 300.0 #@param {type:\"number\"}\n",
        "\n",
        "#@markdown maximum duration of observation [sec] (-1 for auto)\n",
        "max_duration =  35400#@param {type:\"number\"}"
      ],
      "execution_count": 6,
      "outputs": []
    },
    {
      "cell_type": "markdown",
      "metadata": {
        "id": "VTknj4iJLGdD"
      },
      "source": [
        "Calibrator observation strategy.   \n",
        "Calibrators are identified by tags in their description strings: `bpcal`, `gaincal`, `fluxcal` and `polcal` respectively"
      ]
    },
    {
      "cell_type": "code",
      "metadata": {
        "id": "kFxzMOQGLKdc",
        "cellView": "form"
      },
      "source": [
        "#@markdown primary calibrators are 'bpcal', 'fluxcal' and 'polcal'\n",
        "\n",
        "#@markdown minimum duration to track primary calibrators [sec].  \n",
        "primary_cal_duration = 180. #@param {type:\"number\"}\n",
        "\n",
        "#@markdown minimum observation interval between primary calibrators [sec]  (-1 for no cadence)\n",
        "primary_cal_cadence = 1800 #@param {type:\"number\"}\n",
        "\n",
        "\n",
        "#@markdown primary calibrators are 'gaincal' and 'delaycal'\n",
        "\n",
        "#@markdown minimum duration to track gain calibrator [sec]\n",
        "secondary_cal_duration = 65. #@param {type:\"number\"}"
      ],
      "execution_count": 7,
      "outputs": []
    },
    {
      "cell_type": "markdown",
      "metadata": {
        "id": "5AgDzybXvYbC"
      },
      "source": [
        "Sources are specified as a catalogue of targets, with optional timing information"
      ]
    },
    {
      "cell_type": "code",
      "metadata": {
        "id": "CdCT06xCGpsg",
        "cellView": "form"
      },
      "source": [
        "#@markdown filename for output observation file (default only displays output)\n",
        "outfile = 'sample_observation_file.yaml' #@param {type:\"string\"}"
      ],
      "execution_count": 8,
      "outputs": []
    },
    {
      "cell_type": "markdown",
      "metadata": {
        "id": "7s4bLuCDwrvA"
      },
      "source": [
        "## Convert CSV to YAML"
      ]
    },
    {
      "cell_type": "code",
      "metadata": {
        "id": "SQ_M2v5A6_u-"
      },
      "source": [
        "import astrokat\n",
        "import catalogue2obsfile as cat2obs"
      ],
      "execution_count": 9,
      "outputs": []
    },
    {
      "cell_type": "code",
      "metadata": {
        "id": "Q45LZxK2qaMz"
      },
      "source": [
        "# unpack and verify user input\n",
        "instrument = astrokat.obs_dict.get_instrument_dict()\n",
        "instrument['product'] = None if not product else product\n",
        "instrument['band'] = None if not band else band\n",
        "instrument['integration_period'] = integration_period\n",
        "instrument = astrokat.obs_dict.remove_none_inputs_(instrument)\n",
        "\n",
        "def eval_none(val_):\n",
        "    if val_ < 0:\n",
        "        return None\n",
        "    else:\n",
        "        return val_\n",
        "\n",
        "durations = astrokat.obs_dict.get_durations_dict()\n",
        "max_duration = eval_none(max_duration)\n",
        "durations[\"obs_duration\"] = max_duration\n",
        "durations = astrokat.obs_dict.remove_none_inputs_(durations)\n",
        "\n",
        "lst = eval_none(lst)\n",
        "primary_cal_cadence = eval_none(primary_cal_cadence)\n",
        "\n",
        "if not outfile: outfile = None"
      ],
      "execution_count": 10,
      "outputs": []
    },
    {
      "cell_type": "code",
      "metadata": {
        "id": "T0a-V6R6w0Ro"
      },
      "source": [
        "# read targets from catalogue file\n",
        "cat_obj = cat2obs.UnpackCatalogue(filename)\n",
        "header, catalogue = cat_obj.read_catalogue(target_duration=target_duration,\n",
        "                                           gaincal_duration=secondary_cal_duration,\n",
        "                                           bpcal_duration=primary_cal_duration,\n",
        "                                           bpcal_interval=primary_cal_cadence)"
      ],
      "execution_count": 11,
      "outputs": []
    },
    {
      "cell_type": "code",
      "metadata": {
        "id": "LrF5qtAzyvjK"
      },
      "source": [
        "# create observation configuration output\n",
        "obs_plan = cat2obs.BuildObservation(catalogue)\n",
        "obs_plan.configure(instrument=instrument,\n",
        "                   obs_duration=durations,\n",
        "                   lst=lst)"
      ],
      "execution_count": 12,
      "outputs": []
    },
    {
      "cell_type": "code",
      "metadata": {
        "id": "b7m0HFbW6_03"
      },
      "source": [
        "# display observation info or write to YAML file\n",
        "obs_plan.write_yaml(header=header, outfile=outfile)"
      ],
      "execution_count": 13,
      "outputs": []
    },
    {
      "cell_type": "code",
      "metadata": {
        "id": "aSHMtD316_8Y"
      },
      "source": [
        "# view yaml\n",
        "!ln -s /content/astrokat/scripts/astrokat-targets.py mkatcals.py"
      ],
      "execution_count": 14,
      "outputs": []
    },
    {
      "cell_type": "code",
      "metadata": {
        "colab": {
          "base_uri": "https://localhost:8080/",
          "height": 181
        },
        "id": "L24u_dDfY0KE",
        "outputId": "8251ca11-da71-493c-ce8f-a3cd38403974"
      },
      "source": [
        "import mkatcals\n",
        "mkatcals.main(viewfile=outfile)"
      ],
      "execution_count": 15,
      "outputs": [
        {
          "output_type": "error",
          "ename": "TypeError",
          "evalue": "ignored",
          "traceback": [
            "\u001b[0;31m---------------------------------------------------------------------------\u001b[0m",
            "\u001b[0;31mTypeError\u001b[0m                                 Traceback (most recent call last)",
            "\u001b[0;32m<ipython-input-15-c512853b4bbc>\u001b[0m in \u001b[0;36m<module>\u001b[0;34m()\u001b[0m\n\u001b[1;32m      1\u001b[0m \u001b[0;32mimport\u001b[0m \u001b[0mmkatcals\u001b[0m\u001b[0;34m\u001b[0m\u001b[0;34m\u001b[0m\u001b[0m\n\u001b[0;32m----> 2\u001b[0;31m \u001b[0mmkatcals\u001b[0m\u001b[0;34m.\u001b[0m\u001b[0mmain\u001b[0m\u001b[0;34m(\u001b[0m\u001b[0mviewfile\u001b[0m\u001b[0;34m=\u001b[0m\u001b[0moutfile\u001b[0m\u001b[0;34m)\u001b[0m\u001b[0;34m\u001b[0m\u001b[0;34m\u001b[0m\u001b[0m\n\u001b[0m",
            "\u001b[0;31mTypeError\u001b[0m: main() got an unexpected keyword argument 'viewfile'"
          ]
        }
      ]
    },
    {
      "cell_type": "code",
      "metadata": {
        "colab": {
          "base_uri": "https://localhost:8080/"
        },
        "id": "4UYveiddYwL4",
        "outputId": "4e24ed6a-e48d-4d62-baa0-c03187cc447a"
      },
      "source": [
        "mkatcals.main"
      ],
      "execution_count": 16,
      "outputs": [
        {
          "output_type": "execute_result",
          "data": {
            "text/plain": [
              "<function mkatcals.main>"
            ]
          },
          "metadata": {
            "tags": []
          },
          "execution_count": 16
        }
      ]
    },
    {
      "cell_type": "code",
      "metadata": {
        "id": "bRchFwuPZvju"
      },
      "source": [
        ""
      ],
      "execution_count": null,
      "outputs": []
    }
  ]
}