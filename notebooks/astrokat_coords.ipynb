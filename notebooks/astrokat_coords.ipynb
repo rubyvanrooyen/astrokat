{
  "nbformat": 4,
  "nbformat_minor": 0,
  "metadata": {
    "colab": {
      "name": "astrokat-coords.ipynb",
      "provenance": [],
      "collapsed_sections": [],
      "toc_visible": true,
      "authorship_tag": "ABX9TyPd6Re+beTrDhpNrBosXor4",
      "include_colab_link": true
    },
    "kernelspec": {
      "name": "python3",
      "display_name": "Python 3"
    }
  },
  "cells": [
    {
      "cell_type": "markdown",
      "metadata": {
        "id": "view-in-github",
        "colab_type": "text"
      },
      "source": [
        "<a href=\"https://colab.research.google.com/github/rubyvanrooyen/astrokat/blob/colab_helper_interface/notebooks/astrokat_coords.ipynb\" target=\"_parent\"><img src=\"https://colab.research.google.com/assets/colab-badge.svg\" alt=\"Open In Colab\"/></a>"
      ]
    },
    {
      "cell_type": "markdown",
      "metadata": {
        "id": "KVAI_BM-eZf8"
      },
      "source": [
        "# AstroKAT galactic coordinate converter\n",
        "\n",
        "Convenience calculator to transform Galactic coordinates to the ICRS frame\n",
        "\n",
        "For more detail refer to the\n",
        "[Galactic coordinates to ICRS](https://github.com/ska-sa/astrokat/wiki/Galactic-coordinates-to-ICRS)\n",
        "documentation on the\n",
        "[AstroKAT](https://github.com/ska-sa/astrokat/wiki)\n",
        "wiki page.\n"
      ]
    },
    {
      "cell_type": "markdown",
      "metadata": {
        "id": "qeel-oiezpX_"
      },
      "source": [
        "## Installation and setup"
      ]
    },
    {
      "cell_type": "code",
      "metadata": {
        "id": "Qitxbc-n62r7"
      },
      "source": [
        "!pip install git+https://github.com/ska-sa/astrokat.git"
      ],
      "execution_count": null,
      "outputs": []
    },
    {
      "cell_type": "code",
      "metadata": {
        "id": "pghftjCn6_yX"
      },
      "source": [
        "!git clone https://github.com/ska-sa/astrokat.git"
      ],
      "execution_count": null,
      "outputs": []
    },
    {
      "cell_type": "code",
      "metadata": {
        "id": "lTdB0BiUQxX4"
      },
      "source": [
        "# remove between the comment after merge"
      ],
      "execution_count": null,
      "outputs": []
    },
    {
      "cell_type": "code",
      "metadata": {
        "id": "PsE57S6UQyVe",
        "colab": {
          "base_uri": "https://localhost:8080/"
        },
        "outputId": "69823b28-e9da-4cd0-9661-01655673a2f4"
      },
      "source": [
        "!pip install git+https://github.com/rubyvanrooyen/astrokat.git@colab_helper_interface\n",
        "!git clone --single-branch --branch colab_helper_interface https://github.com/rubyvanrooyen/astrokat.git"
      ],
      "execution_count": 1,
      "outputs": [
        {
          "output_type": "stream",
          "text": [
            "Collecting git+https://github.com/rubyvanrooyen/astrokat.git@colab_helper_interface\n",
            "  Cloning https://github.com/rubyvanrooyen/astrokat.git (to revision colab_helper_interface) to /tmp/pip-req-build-4qo0h8_x\n",
            "  Running command git clone -q https://github.com/rubyvanrooyen/astrokat.git /tmp/pip-req-build-4qo0h8_x\n",
            "  Running command git checkout -b colab_helper_interface --track origin/colab_helper_interface\n",
            "  Switched to a new branch 'colab_helper_interface'\n",
            "  Branch 'colab_helper_interface' set up to track remote branch 'colab_helper_interface' from 'origin'.\n",
            "  Installing build dependencies ... \u001b[?25l\u001b[?25hdone\n",
            "  Getting requirements to build wheel ... \u001b[?25l\u001b[?25hdone\n",
            "  Installing backend dependencies ... \u001b[?25l\u001b[?25hdone\n",
            "    Preparing wheel metadata ... \u001b[?25l\u001b[?25hdone\n",
            "Requirement already satisfied: matplotlib in /usr/local/lib/python3.7/dist-packages (from astrokat==0.1.dev606+colab.helper.interface.e6cfbd1) (3.2.2)\n",
            "Collecting pyephem\n",
            "  Downloading https://files.pythonhosted.org/packages/8e/02/1eade827452880961bc4657df24f72e7a76d764abff3e666433e1c8d1980/pyephem-9.99.tar.gz\n",
            "Requirement already satisfied: numpy in /usr/local/lib/python3.7/dist-packages (from astrokat==0.1.dev606+colab.helper.interface.e6cfbd1) (1.19.5)\n",
            "Requirement already satisfied: pyyaml in /usr/local/lib/python3.7/dist-packages (from astrokat==0.1.dev606+colab.helper.interface.e6cfbd1) (3.13)\n",
            "Requirement already satisfied: astropy in /usr/local/lib/python3.7/dist-packages (from astrokat==0.1.dev606+colab.helper.interface.e6cfbd1) (4.2)\n",
            "Collecting katpoint\n",
            "\u001b[?25l  Downloading https://files.pythonhosted.org/packages/f4/ef/acc4889c943e58386d05127e5b907f209320cd5f0de124c2b4c5c5626cce/katpoint-0.9-py2.py3-none-any.whl (94kB)\n",
            "\u001b[K     |████████████████████████████████| 102kB 3.8MB/s \n",
            "\u001b[?25hRequirement already satisfied: pyparsing!=2.0.4,!=2.1.2,!=2.1.6,>=2.0.1 in /usr/local/lib/python3.7/dist-packages (from matplotlib->astrokat==0.1.dev606+colab.helper.interface.e6cfbd1) (2.4.7)\n",
            "Requirement already satisfied: python-dateutil>=2.1 in /usr/local/lib/python3.7/dist-packages (from matplotlib->astrokat==0.1.dev606+colab.helper.interface.e6cfbd1) (2.8.1)\n",
            "Requirement already satisfied: kiwisolver>=1.0.1 in /usr/local/lib/python3.7/dist-packages (from matplotlib->astrokat==0.1.dev606+colab.helper.interface.e6cfbd1) (1.3.1)\n",
            "Requirement already satisfied: cycler>=0.10 in /usr/local/lib/python3.7/dist-packages (from matplotlib->astrokat==0.1.dev606+colab.helper.interface.e6cfbd1) (0.10.0)\n",
            "Requirement already satisfied: ephem in /usr/local/lib/python3.7/dist-packages (from pyephem->astrokat==0.1.dev606+colab.helper.interface.e6cfbd1) (3.7.7.1)\n",
            "Requirement already satisfied: pyerfa in /usr/local/lib/python3.7/dist-packages (from astropy->astrokat==0.1.dev606+colab.helper.interface.e6cfbd1) (1.7.2)\n",
            "Requirement already satisfied: future in /usr/local/lib/python3.7/dist-packages (from katpoint->astrokat==0.1.dev606+colab.helper.interface.e6cfbd1) (0.16.0)\n",
            "Requirement already satisfied: six>=1.5 in /usr/local/lib/python3.7/dist-packages (from python-dateutil>=2.1->matplotlib->astrokat==0.1.dev606+colab.helper.interface.e6cfbd1) (1.15.0)\n",
            "Building wheels for collected packages: astrokat\n",
            "  Building wheel for astrokat (PEP 517) ... \u001b[?25l\u001b[?25hdone\n",
            "  Created wheel for astrokat: filename=astrokat-0.1.dev606+colab.helper.interface.e6cfbd1-cp37-none-any.whl size=58614 sha256=adb4c4f7c70dafae09c557d84ad0b2e03ae6049da679047f3d83d2343cf024ff\n",
            "  Stored in directory: /tmp/pip-ephem-wheel-cache-wiynsrdu/wheels/27/65/25/9b35b6d914159420fb2ae154028e96a10c7130646828e1663b\n",
            "Successfully built astrokat\n",
            "Building wheels for collected packages: pyephem\n",
            "  Building wheel for pyephem (setup.py) ... \u001b[?25l\u001b[?25hdone\n",
            "  Created wheel for pyephem: filename=pyephem-9.99-cp37-none-any.whl size=1570 sha256=5c8c07a25bbd925a2caeb8815cf7dada96e484d5399dbf998ba4bb6cd2bbee3a\n",
            "  Stored in directory: /root/.cache/pip/wheels/9d/c2/8d/c7117f6ac25cad94939c5dbbddbb4ba312e0b808edf11912a6\n",
            "Successfully built pyephem\n",
            "Installing collected packages: pyephem, katpoint, astrokat\n",
            "Successfully installed astrokat-0.1.dev606+colab.helper.interface.e6cfbd1 katpoint-0.9 pyephem-9.99\n",
            "Cloning into 'astrokat'...\n",
            "remote: Enumerating objects: 597, done.\u001b[K\n",
            "remote: Counting objects: 100% (597/597), done.\u001b[K\n",
            "remote: Compressing objects: 100% (241/241), done.\u001b[K\n",
            "remote: Total 2786 (delta 402), reused 520 (delta 354), pack-reused 2189\u001b[K\n",
            "Receiving objects: 100% (2786/2786), 5.39 MiB | 26.40 MiB/s, done.\n",
            "Resolving deltas: 100% (1915/1915), done.\n"
          ],
          "name": "stdout"
        }
      ]
    },
    {
      "cell_type": "code",
      "metadata": {
        "id": "JOxNxLDKQx8f"
      },
      "source": [
        "# remove between the comment after merge"
      ],
      "execution_count": 2,
      "outputs": []
    },
    {
      "cell_type": "code",
      "metadata": {
        "id": "SQypWvRSGFe_"
      },
      "source": [
        "!ln -s /content/astrokat/scripts/astrokat-coords.py gal2icrs.py"
      ],
      "execution_count": 3,
      "outputs": []
    },
    {
      "cell_type": "markdown",
      "metadata": {
        "id": "TMxNquZEISMp"
      },
      "source": [
        "## User input"
      ]
    },
    {
      "cell_type": "markdown",
      "metadata": {
        "id": "MeFZ1Ohn-TZG"
      },
      "source": [
        "Galactic coordinates as strings or as degree float"
      ]
    },
    {
      "cell_type": "code",
      "metadata": {
        "id": "8UVse9DOI0Zx",
        "cellView": "form"
      },
      "source": [
        "#@markdown target name\n",
        "name =  ' T11R00C02' #@param {type:\"string\"}\n",
        "#@markdown galactic longitude ('21h51m30.37s' or '21.8584h' or '327.8760d')\n",
        "l =  '21h51m30.37s' #@param {type:\"string\"}\n",
        "#@markdown galactic latitude ('+00d59m15.56s' or '0.9877d')\n",
        "b =  '+00d59m15.56s' #@param {type:\"string\"}"
      ],
      "execution_count": 4,
      "outputs": []
    },
    {
      "cell_type": "markdown",
      "metadata": {
        "id": "7s4bLuCDwrvA"
      },
      "source": [
        "## Convert galactic to icrs"
      ]
    },
    {
      "cell_type": "code",
      "metadata": {
        "id": "SQ_M2v5A6_u-"
      },
      "source": [
        "import astrokat\n",
        "import gal2icrs"
      ],
      "execution_count": 5,
      "outputs": []
    },
    {
      "cell_type": "code",
      "metadata": {
        "id": "fgOTkyhtBc0Y",
        "colab": {
          "base_uri": "https://localhost:8080/"
        },
        "outputId": "83fb97e0-d75b-4b77-d8a1-9daaa5a41408"
      },
      "source": [
        "[gal_coord, radec_coord] = gal2icrs.gal2icrs_skycoord(l,b)\n",
        "gal2icrs.display_galactic(gal_coord, name=name)\n",
        "gal2icrs.display_radec(radec_coord) "
      ],
      "execution_count": 6,
      "outputs": [
        {
          "output_type": "stream",
          "text": [
            "Target  T11R00C02\n",
            "Galactic coordinates\n",
            "\t(21:51:30.3700, +00:59:15.5600) = (21.8584h, 0.9877d) = (327.8765d, 0.9877d)\n",
            "(RA, DEC) coordinates\n",
            "\t(15:49:32.3166, -53:02:00.3906) = (15.8256h, -53.0334d) = (237.3847d, -53.0334d)\n"
          ],
          "name": "stdout"
        }
      ]
    },
    {
      "cell_type": "code",
      "metadata": {
        "id": "aSHMtD316_8Y"
      },
      "source": [
        ""
      ],
      "execution_count": null,
      "outputs": []
    }
  ]
}