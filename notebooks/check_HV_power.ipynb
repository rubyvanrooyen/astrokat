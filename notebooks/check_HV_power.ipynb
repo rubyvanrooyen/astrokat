{
  "nbformat": 4,
  "nbformat_minor": 0,
  "metadata": {
    "colab": {
      "name": "check_HV_power.ipynb",
      "provenance": [],
      "collapsed_sections": [],
      "toc_visible": true,
      "include_colab_link": true
    },
    "kernelspec": {
      "name": "python3",
      "display_name": "Python 3"
    },
    "language_info": {
      "name": "python"
    }
  },
  "cells": [
    {
      "cell_type": "markdown",
      "metadata": {
        "id": "view-in-github",
        "colab_type": "text"
      },
      "source": [
        "<a href=\"https://colab.research.google.com/github/rubyvanrooyen/astrokat/blob/rvr_more_user_notebooks/notebooks/check_HV_power.ipynb\" target=\"_parent\"><img src=\"https://colab.research.google.com/assets/colab-badge.svg\" alt=\"Open In Colab\"/></a>"
      ]
    },
    {
      "cell_type": "code",
      "metadata": {
        "id": "9UK-dvgZ-uCl"
      },
      "source": [
        "import numpy as np\n",
        "import matplotlib.pylab as plt\n",
        "from datetime import datetime"
      ],
      "execution_count": null,
      "outputs": []
    },
    {
      "cell_type": "markdown",
      "metadata": {
        "id": "0Ukv2a46LSks"
      },
      "source": [
        "# User input"
      ]
    },
    {
      "cell_type": "code",
      "metadata": {
        "cellView": "form",
        "id": "emGrckx4Ded0"
      },
      "source": [
        "#@markdown Select polcal from dropdown list\n",
        "polcal = '3C286' #@param [\"3C48\", \"3C138\", \"3C286\"]\n",
        "#@markdown Center frequency in [MHz]\n",
        "f_mhz = 1400.0 #@param {type:\"number\"}\n",
        "\n",
        "#@markdown Observation date & time\n",
        "date_input = '2021-07-25' #@param {type:\"date\"}\n",
        "time_input = '00:00:00' #@param {type:\"string\"}"
      ],
      "execution_count": null,
      "outputs": []
    },
    {
      "cell_type": "markdown",
      "metadata": {
        "id": "3TXr1gotxRBu"
      },
      "source": [
        "# MeerKAT polarisation calibrator"
      ]
    },
    {
      "cell_type": "code",
      "metadata": {
        "id": "8lmdD2Yt66bv"
      },
      "source": [
        "# Listed coefficients from MeerKAT polcal catalogue\n",
        "# name : Flux model (Min freq [MHz] Max freq [MHz] [model coefficients, MHz])\n",
        "pol_flux = {\"3C48 | J0137+3309\":  # coeffs @ 2012 (TBL 11)\n",
        "            {'ra': '01:37:41.2995',\n",
        "             'dec': '33:09:35.134',\n",
        "             'flux': np.array([50., 50000., 0.5240, 1.7377, -0.6396, 0.0498])},\n",
        "            \"3C138 | J0521+1638\":  # coeffs @ 2012 (TBL 11)\n",
        "            {'ra': '05:21:9.8860',\n",
        "             'dec': '16:38:22.052',\n",
        "             'flux': np.array([50., 50000., 1.3781, 0.1619, -0.0650, -0.0100])},\n",
        "            \"3C286 | J1331+3030\":  # steady source (TBL 10)\n",
        "            {'ra': '13:31:08.2881',\n",
        "             'dec': '30:30:32.959',\n",
        "             'flux': np.array([50., 50000., 0.0181, 1.5920, -0.5011, 0.0357])},\n",
        "            }\n"
      ],
      "execution_count": null,
      "outputs": []
    },
    {
      "cell_type": "code",
      "metadata": {
        "id": "wGJbNCu2zByc"
      },
      "source": [
        "cal_list = list(pol_flux.keys())\n",
        "cal_idx = np.flatnonzero(np.char.find(cal_list, polcal)!=-1)[0]\n",
        "cal_key = cal_list[cal_idx]\n",
        "ra = pol_flux[cal_key]['ra']\n",
        "dec = pol_flux[cal_key]['dec']\n",
        "pol_cal_model = pol_flux[cal_key]['flux']\n",
        "# Flux density of calibrator over frequency using fitted coefficients\n",
        "min_freq_mhz = pol_cal_model[0]\n",
        "max_freq_mhz = pol_cal_model[1]\n",
        "coeffs = pol_cal_model[2:]"
      ],
      "execution_count": null,
      "outputs": []
    },
    {
      "cell_type": "code",
      "metadata": {
        "id": "-H8lZsNuxWDv"
      },
      "source": [
        "# make astropy friendly\n",
        "[hh, mm, ss] = ra.split(':')\n",
        "ra = f'{hh}h{mm}m{ss}s'\n",
        "[dd, mm, ss] = dec.split(':')\n",
        "dec = f'{dd}d{mm}m{ss}s'\n",
        "\n",
        "[yy, mm, dd] = np.array(date_input.split('-'), dtype=int)\n",
        "[hh, min, ss] = np.array(time_input.split(':'), dtype=int)\n",
        "obs_time = datetime(year=yy, month=mm, day=dd, hour=hh, minute=min, second=ss)"
      ],
      "execution_count": null,
      "outputs": []
    },
    {
      "cell_type": "markdown",
      "metadata": {
        "id": "E2wwHaNgJbrV"
      },
      "source": [
        "# Flux density model"
      ]
    },
    {
      "cell_type": "markdown",
      "metadata": {
        "id": "pLGJl7LXmcnr"
      },
      "source": [
        "Refer to\n",
        "[AstroKAT flux fit](https://github.com/ska-sa/astrokat/blob/master/notebooks/astrokat_fitflux.ipynb)\n",
        "notebook for flux model calculation for MeerKAT telescope using\n",
        "[Perley & Butler 2017](https://iopscience.iop.org/article/10.3847/1538-4365/aa6df9)\n",
        "flux model coefficients\n",
        "```\n",
        "# Listed coefficients in GHz as per reference\n",
        "# name : Flux model (Min freq [MHz] Max freq [MHz] [model coefficients, GHz])\n",
        "pol_flux = {\"3C48 | J0137+3309\":  # coeffs @ 2012 (TBL 11)\n",
        "            np.array([50., 50000., 1.3324, -0.7690, -0.1950, 0.059]),\n",
        "            \"3C138 | J0521+1638\":  # coeffs @ 2012 (TBL 11)\n",
        "            np.array([200., 50000., 1.0332, -0.5608, -0.1197, 0.041]),\n",
        "            \"3C286 | J1331+3030\":  # steady source (TBL 10)\n",
        "            np.array([50., 50000., 1.2512, -0.4605, -0.1715, 0.0336]),\n",
        "            }\n",
        "```"
      ]
    },
    {
      "cell_type": "code",
      "metadata": {
        "colab": {
          "base_uri": "https://localhost:8080/"
        },
        "id": "bKc8wPWtEILt",
        "outputId": "cabbc5b7-7610-4050-ecd6-55752162922b"
      },
      "source": [
        "[a, b, c, d] = coeffs\n",
        "\n",
        "def calc_flux_density(coeffs, freq):\n",
        "    \"\"\"Calculate flux density from polynomial equation.\"\"\"\n",
        "    log10S = coeffs[0]\n",
        "    for idx, coeff in enumerate(coeffs[1:]):\n",
        "        log10S += coeff * (np.log10(freq)**(idx + 1))\n",
        "    return log10S\n",
        "\n",
        "# calculate flux density from polynomial equation\n",
        "flux_model_str = ''\n",
        "for cnt, coeff in enumerate([a, b, c, d]):\n",
        "    sign = '+' if coeff > 0 else '-'\n",
        "    if cnt < 1:\n",
        "        flux_model_str = f'{coeff:.4f} '\n",
        "    elif cnt < 2:\n",
        "        flux_model_str += f'{sign} {np.abs(coeff):.4f}*log10({f_mhz}) '\n",
        "    else:\n",
        "        flux_model_str += f'{sign} {np.abs(coeff):.4f}*log10({f_mhz})**{cnt} '\n",
        "flux = 10**calc_flux_density([a, b, c, d], f_mhz)\n",
        "print(f'Freq range {min_freq_mhz} [MHz] - {max_freq_mhz} [MHz]')\n",
        "print(f'Flux model log10(S) = {flux_model_str}')\n",
        "print(f'Flux @ {f_mhz} [MHz] = {flux:.5} [Jy]')"
      ],
      "execution_count": null,
      "outputs": [
        {
          "output_type": "stream",
          "name": "stdout",
          "text": [
            "Freq range 50.0 [MHz] - 50000.0 [MHz]\n",
            "Flux model log10(S) = 0.0181 + 1.5920*log10(1400.0) - 0.5011*log10(1400.0)**2 + 0.0357*log10(1400.0)**3 \n",
            "Flux @ 1400.0 [MHz] = 15.084 [Jy]\n"
          ]
        }
      ]
    },
    {
      "cell_type": "markdown",
      "metadata": {
        "id": "QJvEwUea2MB4"
      },
      "source": [
        "# Polarisation properties\n",
        "Values used can be found in the\n",
        "[Perley & Butler 2013](https://iopscience.iop.org/article/10.1088/0067-0049/206/2/16)\n",
        "VLA polarization guide"
      ]
    },
    {
      "cell_type": "code",
      "metadata": {
        "id": "9LsY0yO2lDWy"
      },
      "source": [
        "# Table 3 polarisation properties\n",
        "freq_ghz = np.array([1.050, 1.450, 1.640, 1.950, 2.450, 2.950, 3.250, 3.750, 4.500, 5.000, 6.500, 7.250, 8.100, 8.800, 12.80, 13.70, 14.60, 15.50, 18.10, 19.00, 22.40, 23.30, 36.50, 43.50])\n",
        "pol_prop = {\"3C48 | J0137+3309\":\n",
        "            {'PA':np.array([25, 140, -5, -150, -120, -100, -92, -84, -75, -72, -68, -67, -64, -62, -62, -62, -63, -64, -66, -67, -70, -70, -77, -85]),  # position angle [deg]\n",
        "             'frac':np.array([0.3, 0.5, 0.7, 0.9, 1.4, 2.0, 2.5, 3.2, 3.8, 4.2, 5.2, 5.2, 5.3, 5.4, 6.0, 6.1, 6.4, 6.4, 6.9, 7.1, 7.7, 7.8, 7.4, 7.5]),  # fractional polarisation [%]\n",
        "             },\n",
        "            \"3C138 | J0521+1638\":\n",
        "            {'PA':np.array([-14, -11, -10, -10, -9, -10, -10, np.nan, -11, -11, -12, -12, -10, -8, -7, -7, -8, -9, -12, -13, -16, -17, -24, -27]),  # position angle\n",
        "             'frac':np.array([5.6, 7.5, 8.4, 9.0, 10.4, 10.7, 10.0, np.nan, 10.0, 10.4, 9.8, 10.0, 10.4, 10.1, 8.4, 7.9, 7.7, 7.4, 6.7, 6.5, 6.7, 6.6, 6.6, 6.5]),  # fractional polarisation\n",
        "             },\n",
        "            \"3C286 | J1331+3030\":\n",
        "            {'PA':np.array([33, 33, 33, 33, 33, 33, 33, 33, 33, 33, 33, 33, 33, 33, 34, 34, 34, 34, 34, 35, 35, 35, 36, 36]),  # position angle\n",
        "             'frac':np.array([8.6, 9.5, 9.9, 10.1, 10.5, 10.8, 10.9, 11.1, 11.3, 11.4, 11.6, 11.7, 11.9, 11.9, 11.9, 11.9, 12.1, 12.2, 12.5, 12.5, 12.6, 12.6, 13.1, 13.2]),  # fractional polarisation\n",
        "             },\n",
        "            }\n"
      ],
      "execution_count": null,
      "outputs": []
    },
    {
      "cell_type": "code",
      "metadata": {
        "colab": {
          "base_uri": "https://localhost:8080/",
          "height": 350
        },
        "id": "zSbQ2mpb2k8f",
        "outputId": "e764c1f0-da58-4ef7-8b8d-a9cf1aaf68ac"
      },
      "source": [
        "cal_list = list(pol_prop.keys())\n",
        "cal_idx = np.flatnonzero(np.char.find(cal_list, polcal)!=-1)[0]\n",
        "cal_key = cal_list[cal_idx]\n",
        "pol_cal_prob = pol_prop[cal_key]\n",
        "\n",
        "fig, (ax0, ax1) = plt.subplots(nrows=2, ncols=1, figsize=(17, 5), facecolor='white')\n",
        "ax0.plot(freq_ghz, pol_cal_prob['PA'], 'k.:')\n",
        "ax1.plot(freq_ghz, pol_cal_prob['frac'], 'k.:')\n",
        "ax0.set_title(f'{cal_key}')\n",
        "ax0.set_ylabel(r'PA {}$\\chi$ [deg]'.format(polcal))\n",
        "ax1.set_ylabel(r'frac {}p [%]'.format(polcal))\n",
        "ax1.set_xlabel('Frequency [GHz]')\n",
        "plt.show()"
      ],
      "execution_count": null,
      "outputs": [
        {
          "output_type": "display_data",
          "data": {
            "image/png": "[encoded data removed]",
            "text/plain": [
              "<Figure size 1224x360 with 2 Axes>"
            ]
          },
          "metadata": {}
        }
      ]
    },
    {
      "cell_type": "code",
      "metadata": {
        "colab": {
          "base_uri": "https://localhost:8080/"
        },
        "id": "vrrM2OKt2luO",
        "outputId": "376b40ed-f9bd-47a4-be94-d99f4f85ba7e"
      },
      "source": [
        "def fit_poly(x, y, x0):\n",
        "    if len(x) < 3: p_o = 1\n",
        "    else: p_o = 2\n",
        "    c2p = np.polyfit(x, y, p_o) \n",
        "    p2 = np.poly1d(c2p)\n",
        "    return p2(x0)\n",
        "\n",
        "f_ghz = f_mhz/1e3\n",
        "idx_ = np.argmin(np.abs(freq_ghz - f_ghz))\n",
        "# fit with a second degree polynomial\n",
        "if idx_ > 0:\n",
        "    x = freq_ghz[idx_-1:idx_+2]\n",
        "else:\n",
        "    x = freq_ghz[idx_:idx_+2]\n",
        "y0 = pol_cal_prob['frac'][idx_-1:idx_+2]\n",
        "pol_frac = fit_poly(x, y0, f_ghz)\n",
        "\n",
        "y1 = pol_cal_prob['PA'][idx_-1:idx_+2]\n",
        "pol_pa = fit_poly(x, y1, f_ghz)\n",
        "\n",
        "print(f'Polarisation properties for {polcal}')\n",
        "print(f'\\t Fractional polarisation @ {f_mhz} [MHz] = {pol_frac:.4f} [%]')\n",
        "print(f'\\t Position angle @ {f_mhz} [MHz] = {pol_pa:.4f} [deg]')"
      ],
      "execution_count": null,
      "outputs": [
        {
          "output_type": "stream",
          "name": "stdout",
          "text": [
            "Polarisation properties for 3C286\n",
            "\t Fractional polarisation @ 1400.0 [MHz] = 9.3918 [%]\n",
            "\t Position angle @ 1400.0 [MHz] = 33.0000 [deg]\n"
          ]
        }
      ]
    },
    {
      "cell_type": "markdown",
      "metadata": {
        "id": "4LPdgT4oSpAH"
      },
      "source": [
        "# Parallactic angle\n",
        "\n",
        "See notebook [PA_calculations.ipynb](https://colab.research.google.com/drive/1rLQJEg08q_Q-AVI6l8ET3moXDa7fwL1V?usp=sharing) for detail calculations"
      ]
    },
    {
      "cell_type": "code",
      "metadata": {
        "colab": {
          "base_uri": "https://localhost:8080/"
        },
        "id": "-YXCihMdlJCL",
        "outputId": "384729bd-335d-478c-9066-0b075310c715"
      },
      "source": [
        "from astropy.coordinates import Longitude, Latitude, EarthLocation\n",
        "from astropy.coordinates import ICRS, FK5, SkyCoord, AltAz, SkyCoord\n",
        "from astropy import coordinates as coord\n",
        "from astropy import units as u\n",
        "from astropy.time import Time\n",
        "\n",
        "# reference position is given in geodetic coordinates (lat, lon, height)\n",
        "astropy_telescope = EarthLocation.from_geodetic(Longitude('21:26:38.0', u.degree, wrap_angle=180. * u.degree, copy=False),\n",
        "                                                Latitude('-30:42:39.8', u.degree, copy=False),\n",
        "                                                height=u.Quantity(1086.6, u.m, copy=False))\n",
        "obs_time = Time(obs_time, format='datetime', scale='utc', location=astropy_telescope)\n",
        "observer = AltAz(location=astropy_telescope, obstime=obs_time)\n",
        "\n",
        "# equatorial coordinates of sky target\n",
        "target = SkyCoord(ra=ra, dec=dec, frame=FK5, equinox='J2000.0')\n",
        "# recalculate for DATE-OBS (precession)\n",
        "target = target.transform_to(FK5(equinox=obs_time))\n",
        "altaz = target.transform_to(observer)  \n",
        "\n",
        "HA = obs_time.sidereal_time('apparent') - target.ra.to(u.hourangle)\n",
        "# PA formula from Astronomical Algorithms \n",
        "pa = np.arctan2(np.sin(HA.radian), np.cos(target.dec) *  np.tan(observer.location.lat) - np.sin(target.dec) * np.cos(HA.radian))\n",
        "\n",
        "print(f'PA for target {polcal} @ {date_input}T{time_input} = {np.degrees(pa)}')"
      ],
      "execution_count": null,
      "outputs": [
        {
          "output_type": "stream",
          "name": "stdout",
          "text": [
            "PA for target 3C286 @ 2021-07-25T00:00:00 = 106.26606996844205 deg\n"
          ]
        }
      ]
    },
    {
      "cell_type": "markdown",
      "metadata": {
        "id": "xiBsRGPUSuB6"
      },
      "source": [
        "# HV power check\n",
        "\n",
        "Refer to example GIST from Ben Hugo: https://gist.github.com/bennahugo/17e17956577580e25e5a42c54bd0da1c\n"
      ]
    },
    {
      "cell_type": "code",
      "metadata": {
        "colab": {
          "base_uri": "https://localhost:8080/"
        },
        "id": "MysZGiL8SrkK",
        "outputId": "a39f6fe0-7b4f-4e85-b865-00e4af548f23"
      },
      "source": [
        "# --- DO NOT MOD BELOW THIS ---\n",
        "\n",
        "# set these to which one of the calibrators you want to use\n",
        "S_sel = flux\n",
        "Pfraction_sel = pol_frac/100.\n",
        "EVPA_sel =  np.radians(pol_pa)\n",
        "\n",
        "# parallactic angle in radians\n",
        "spa = pa.value\n",
        "epa = pa.value\n",
        "\n",
        "P = Pfraction_sel * np.exp(2.0j * EVPA_sel) # percent centre of band split into Q + iU\n",
        "U = P.imag\n",
        "Q = P.real\n",
        "Qavail_s = Q * np.cos(2*spa) + U * np.sin(2*spa)\n",
        "Uavail_s = U * np.cos(2*spa) - Q * np.sin(2*spa)\n",
        "Qavail_e = Q * np.cos(2*epa) + U * np.sin(2*epa)\n",
        "Uavail_e = U * np.cos(2*epa) - Q * np.sin(2*epa)\n",
        "\n",
        "print(f\"Max fractional linear power available on both hands: {Pfraction_sel * S_sel:.2f} Jy\")\n",
        "print(f\"Max fractional HV power at {f_mhz/1e3:.1f}GHz: {max(np.abs(Uavail_s), np.abs(Uavail_e)) * 100.0:.2e}%\")\n",
        "print(f\"S_{f_mhz/1e3:.1f} of selected calibrator: {S_sel:.2f} Jy\")\n",
        "print(f\"Max HV power Jy at {f_mhz/1e3:.1f}GHz: {max(np.abs(Uavail_s), np.abs(Uavail_e)) * S_sel:.2e} Jy\")"
      ],
      "execution_count": null,
      "outputs": [
        {
          "output_type": "stream",
          "name": "stdout",
          "text": [
            "Max fractional linear power available on both hands: 1.42 Jy\n",
            "Max fractional HV power at 1.4GHz: 5.18e+00%\n",
            "S_1.4 of selected calibrator: 15.08 Jy\n",
            "Max HV power Jy at 1.4GHz: 7.81e-01 Jy\n"
          ]
        }
      ]
    },
    {
      "cell_type": "code",
      "metadata": {
        "id": "2hnjmqjpwRo8"
      },
      "source": [
        ""
      ],
      "execution_count": null,
      "outputs": []
    }
  ]
}