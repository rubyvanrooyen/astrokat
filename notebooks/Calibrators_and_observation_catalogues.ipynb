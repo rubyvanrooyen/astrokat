{
 "cells": [
  {
   "cell_type": "code",
   "execution_count": 1,
   "metadata": {},
   "outputs": [
    {
     "name": "stdout",
     "output_type": "stream",
     "text": [
      "Populating the interactive namespace from numpy and matplotlib\n"
     ]
    }
   ],
   "source": [
    "%pylab inline\n",
    "\n",
    "import katpoint\n",
    "import numpy as np\n",
    "import matplotlib.pyplot as plt\n",
    "from matplotlib.ticker import MaxNLocator, MultipleLocator\n",
    "import matplotlib.dates as mdates\n",
    "from matplotlib.font_manager import FontProperties\n",
    "from astropy.time import Time\n",
    "from IPython.core.display import display, HTML"
   ]
  },
  {
   "cell_type": "markdown",
   "metadata": {},
   "source": [
    "Check out katsdpcatalogue repository from https://github.com/ska-sa/katsdpcatalogues\n",
    "\n",
    "Set path to repo below."
   ]
  },
  {
   "cell_type": "code",
   "execution_count": 2,
   "metadata": {},
   "outputs": [],
   "source": [
    "cat_path = '/home/sharmila/katsdpcatalogues/'"
   ]
  },
  {
   "cell_type": "markdown",
   "metadata": {},
   "source": [
    "Set antenna position and horizon"
   ]
  },
  {
   "cell_type": "code",
   "execution_count": 3,
   "metadata": {},
   "outputs": [],
   "source": [
    "ant = katpoint.Antenna('m000, -30.71292524, 21.44380306, 1035') # the MeerKAT reference point\n",
    "ant.ref_observer.horizon = '20:00:00' # horizon set to 20 degrees\n"
   ]
  },
  {
   "cell_type": "markdown",
   "metadata": {},
   "source": [
    "Set up target, PI and proposal ID"
   ]
  },
  {
   "cell_type": "code",
   "execution_count": 4,
   "metadata": {},
   "outputs": [],
   "source": [
    "prop_id = 'SCI-20180624FC-01'\n",
    "PI = 'Fernando Camilo'\n",
    "email = 'fernando@ska.ac.za, sharmila@ska.ac.za'\n",
    "target_name = 'Abell13' #ensure target name is filename friendly\n",
    "primary_target = katpoint.Target('Abell 13, radec target, 00:13:32.2, -19:30:03.6')"
   ]
  },
  {
   "cell_type": "code",
   "execution_count": 12,
   "metadata": {},
   "outputs": [
    {
     "name": "stdout",
     "output_type": "stream",
     "text": [
      "Catalogue will be written to file /home/sharmila/katsdpcatalogues/SCI-20180624FC-01_Abell13.csv\n"
     ]
    }
   ],
   "source": [
    "cat_fname = cat_path + prop_id + '_' + target_name + '.csv'\n",
    "print('Catalogue will be written to file %s'%cat_fname)"
   ]
  },
  {
   "cell_type": "markdown",
   "metadata": {},
   "source": [
    "# Calibrators\n",
    "\n",
    "Search calibrator file to find the closest suitable calibrator to the target."
   ]
  },
  {
   "cell_type": "code",
   "execution_count": 6,
   "metadata": {},
   "outputs": [
    {
     "name": "stdout",
     "output_type": "stream",
     "text": [
      "Closest gaincal is J234802-163112 (2345-167), tags=radec gaincal, 23:48:02.62 -16:31:12.6, no flux info at 6.8 degrees\n"
     ]
    }
   ],
   "source": [
    "cal_filename = cat_path + 'cals_Lband.csv'\n",
    "cal_cat = katpoint.Catalogue(file(cal_filename))\n",
    "\n",
    "gaincal,sep = cal_cat.closest_to(primary_target, antenna=ant)\n",
    "print('Closest gaincal is %s at %.1f degrees'%(gaincal,sep))"
   ]
  },
  {
   "cell_type": "code",
   "execution_count": 7,
   "metadata": {},
   "outputs": [
    {
     "name": "stdout",
     "output_type": "stream",
     "text": [
      "Closest bandpass calibrator is PKS 0408-65, tags=radec bfcal single_accumulation, 4:08:20.38 -65:45:09.1, flux defined for 800 - 8400 MHz\n"
     ]
    }
   ],
   "source": [
    "bpcal_filename = cat_path + 'three_calib.csv'\n",
    "bpcal_cat = katpoint.Catalogue(file(bpcal_filename))\n",
    "\n",
    "bpcal = bpcal_cat.closest_to(primary_target, antenna=ant)[0]\n",
    "print('Closest bandpass calibrator is %s'%bpcal)"
   ]
  },
  {
   "cell_type": "code",
   "execution_count": 8,
   "metadata": {},
   "outputs": [],
   "source": [
    "cat = katpoint.Catalogue()\n",
    "cat.add(primary_target)\n",
    "cat.add(bpcal)\n",
    "cat.add(gaincal)\n",
    "cat.antenna = ant\n"
   ]
  },
  {
   "cell_type": "markdown",
   "metadata": {},
   "source": [
    "# Generate rise and set table for catalogue"
   ]
  },
  {
   "cell_type": "code",
   "execution_count": 9,
   "metadata": {},
   "outputs": [
    {
     "data": {
      "text/html": [
       "<table><tr><td colspan='4'>Obs table for 2018-09-17 14:59</td></tr><tr><td>Target<td>Next Rise<td>Next Transit<td>Next Set</tr><tr><td> Abell 13 | [] <td> 2018-09-17 17:51 <td> 2018-09-17 23:01 <td> 2018-09-18 04:11 </tr><tr><td> PKS 0408-65 | [] <td> 2018-09-17 19:34 <td> 2018-09-18 02:54 <td> 2018-09-18 10:15 </tr><tr><td> J234802-163112 | ['2345-167'] <td> 2018-09-17 17:32 <td> 2018-09-17 22:36 <td> 2018-09-18 03:39 </tr><tr><td colspan='4'>These times are in UTC</td></tr></table>"
      ],
      "text/plain": [
       "<IPython.core.display.HTML object>"
      ]
     },
     "metadata": {},
     "output_type": "display_data"
    }
   ],
   "source": [
    "start_timestamp = katpoint.Timestamp() # use NOW as the start time for the obs table\n",
    "#start_timestamp = katpoint.Timestamp('2018-05-07 01:00:00')\n",
    "\n",
    "start_ed = start_timestamp.to_ephem_date()\n",
    "\n",
    "h = '<table>'\n",
    "h += \"<tr><td colspan='4'>Obs table for %s</td></tr>\"%str(start_timestamp+7200)[:16]\n",
    "h += \"<tr><td>Target<td>Next Rise<td>Next Transit<td>Next Set</tr>\"\n",
    "for tar in cat.targets:\n",
    "    try:\n",
    "        rise_time = str((ant.ref_observer.next_rising(tar.body,start_ed).datetime()))[:16]\n",
    "    except:\n",
    "        rise_time = 'source does not rise'\n",
    "        \n",
    "    try:\n",
    "        transit_time = str((ant.ref_observer.next_transit(tar.body,start_ed).datetime()))[:16]\n",
    "    except:\n",
    "        transit_time = 'source does not transit'\n",
    "    try:\n",
    "        set_time = str((ant.ref_observer.next_setting(tar.body,start_ed).datetime()))[:16]\n",
    "    except:\n",
    "        set_time = 'source does not set'\n",
    "    h += '<tr><td> %s | %s <td> %s <td> %s <td> %s </tr>'%(tar.name,tar.aliases,\n",
    "                                rise_time,\n",
    "                                transit_time,\n",
    "                                set_time)\n",
    "h += \"<tr><td colspan='4'>These times are in UTC</td></tr>\"\n",
    "h += \"</table>\"\n",
    "display(HTML(h))"
   ]
  },
  {
   "cell_type": "markdown",
   "metadata": {},
   "source": [
    "# Plot targets listed in catalogue file over LST range"
   ]
  },
  {
   "cell_type": "code",
   "execution_count": 10,
   "metadata": {},
   "outputs": [
    {
     "name": "stdout",
     "output_type": "stream",
     "text": [
      "Abell 13 is above 20 degrees between LST 19.09 and 5.42 \n",
      "PKS 0408-65 is above 20 degrees between LST 20.79 and 11.43 \n",
      "J234802-163112 is above 20 degrees between LST 18.79 and 4.82 \n"
     ]
    },
    {
     "data": {
      "text/plain": [
       "Text(0.5,0,'Local Sidereal Time (hours)')"
      ]
     },
     "execution_count": 10,
     "metadata": {},
     "output_type": "execute_result"
    },
    {
     "data": {
      "image/png": "[encoded data removed]",
      "text/plain": [
       "<Figure size 864x288 with 2 Axes>"
      ]
     },
     "metadata": {},
     "output_type": "display_data"
    }
   ],
   "source": [
    "start_timestamp = katpoint.Timestamp()\n",
    "t = start_timestamp.secs + np.arange(0, 24. * 60. * 60., 360.)\n",
    "lst = katpoint.rad2deg(primary_target.antenna.local_sidereal_time(t)) / 15\n",
    "\n",
    "fig, ax1 = plt.subplots()\n",
    "fig.set_size_inches(12, 4)\n",
    "plt.subplots_adjust(right=0.8)\n",
    "lines = list()\n",
    "labels = list()\n",
    "fontP = FontProperties()\n",
    "fontP.set_size('small')\n",
    "\n",
    "for target in cat.targets:\n",
    "    elev = katpoint.rad2deg(target.azel(t)[1])\n",
    "    timestamps = Time(t, format='unix')\n",
    "    myplot,= plt.plot_date(timestamps.datetime, elev, fmt = '.', linewidth = 0, label=target.name)\n",
    "    lines.append(myplot)\n",
    "    labels.append(target.name)\n",
    "    lst_rise = lst[np.where(elev>20)[0][0]]\n",
    "    lst_set = lst[np.where(elev>20)[0][-1]]\n",
    "    print('%s is above 20 degrees between LST %.2f and %.2f '%(target.name, lst_rise, lst_set))\n",
    "ax1.xaxis.set_major_formatter(mdates.DateFormatter(\"%H:%M\"))\n",
    "ax1.xaxis.set_major_locator(mdates.HourLocator(byhour=range(24),interval=1))\n",
    "labels = ax1.get_xticklabels()\n",
    "plt.setp(labels, rotation=30, fontsize=10)\n",
    "plt.ylim(20,90)\n",
    "plt.grid()\n",
    "plt.legend()\n",
    "plt.ylabel('Elevation (deg)')\n",
    "plt.xlabel ('Time (UTC) starting from %s'%start_timestamp.to_string())\n",
    "ax2 = ax1.twiny()\n",
    "ax2.xaxis.set_major_locator(MaxNLocator(24))\n",
    "minorLocator = MultipleLocator(0.25)\n",
    "ax2.xaxis.set_minor_locator(minorLocator)\n",
    "new_ticks = plt.xticks(\n",
    "    np.linspace(0,1,24),\n",
    "    np.round(lst[np.linspace(1, len(lst), num=24, dtype = int)-1], 2),\n",
    "    rotation = 'vertical')\n",
    "plt.xlabel('Local Sidereal Time (hours)')\n"
   ]
  },
  {
   "cell_type": "markdown",
   "metadata": {},
   "source": [
    "# Solar separation\n",
    "\n",
    "Make sure all objects are at least 20 degrees from the Sun at the planned observation time."
   ]
  },
  {
   "cell_type": "code",
   "execution_count": 11,
   "metadata": {},
   "outputs": [
    {
     "name": "stdout",
     "output_type": "stream",
     "text": [
      "Abell 13 is 91 degrees from the sun\n",
      "PKS 0408-65 is 91 degrees from the sun\n",
      "J234802-163112 is 95 degrees from the sun\n"
     ]
    }
   ],
   "source": [
    "sun = katpoint.Target('Sun, special')\n",
    "for target in cat.targets: \n",
    "    sep = np.degrees(sun.separation(target, timestamp=katpoint.Timestamp('2018-06-17 05:00'), antenna=ant))\n",
    "    print('%s is %.0f degrees from the sun'%(target.name, sep))\n"
   ]
  },
  {
   "cell_type": "markdown",
   "metadata": {},
   "source": [
    "# Write catalogue"
   ]
  },
  {
   "cell_type": "code",
   "execution_count": 13,
   "metadata": {},
   "outputs": [],
   "source": [
    "cat.save(cat_fname)  #note this will overwrite an existing file"
   ]
  },
  {
   "cell_type": "code",
   "execution_count": 17,
   "metadata": {},
   "outputs": [],
   "source": []
  },
  {
   "cell_type": "code",
   "execution_count": null,
   "metadata": {},
   "outputs": [],
   "source": []
  }
 ],
 "metadata": {
  "kernelspec": {
   "display_name": "Python 2",
   "language": "python",
   "name": "python2"
  },
  "language_info": {
   "codemirror_mode": {
    "name": "ipython",
    "version": 2
   },
   "file_extension": ".py",
   "mimetype": "text/x-python",
   "name": "python",
   "nbconvert_exporter": "python",
   "pygments_lexer": "ipython2",
   "version": "2.7.15rc1"
  }
 },
 "nbformat": 4,
 "nbformat_minor": 1
}
