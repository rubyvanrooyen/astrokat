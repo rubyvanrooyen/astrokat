{
  "nbformat": 4,
  "nbformat_minor": 0,
  "metadata": {
    "colab": {
      "name": "astrokat-lst.ipynb",
      "provenance": [],
      "toc_visible": true,
      "authorship_tag": "ABX9TyMl0toktoj6PhBcKtDmkl6M",
      "include_colab_link": true
    },
    "kernelspec": {
      "name": "python3",
      "display_name": "Python 3"
    }
  },
  "cells": [
    {
      "cell_type": "markdown",
      "metadata": {
        "id": "view-in-github",
        "colab_type": "text"
      },
      "source": [
        "<a href=\"https://colab.research.google.com/github/rubyvanrooyen/astrokat/blob/colab_helper_interface/notebooks/astrokat_lst.ipynb\" target=\"_parent\"><img src=\"https://colab.research.google.com/assets/colab-badge.svg\" alt=\"Open In Colab\"/></a>"
      ]
    },
    {
      "cell_type": "markdown",
      "metadata": {
        "id": "9X6GtW8BUBCg"
      },
      "source": [
        "# AstroKAT LST calculation tools\n",
        "\n",
        "Time calculations providing LST information relative to the MeerKAT telescope\n",
        "\n",
        "For more detail refer to the\n",
        "[MeerKAT LST tools](https://github.com/ska-sa/astrokat/wiki/MeerKAT-LST-tools)\n",
        "documentation on the\n",
        "[AstroKAT](https://github.com/ska-sa/astrokat/wiki)\n",
        "wiki page.\n"
      ]
    },
    {
      "cell_type": "code",
      "metadata": {
        "id": "xA6fNhteSgtD",
        "colab": {
          "base_uri": "https://localhost:8080/"
        },
        "outputId": "f30e8d85-2f95-4467-cf08-5b36bfd5c8fd"
      },
      "source": [
        "!pip install git+https://github.com/ska-sa/astrokat.git"
      ],
      "execution_count": 1,
      "outputs": [
        {
          "output_type": "stream",
          "text": [
            "Collecting git+https://github.com/ska-sa/astrokat.git\n",
            "  Cloning https://github.com/ska-sa/astrokat.git to /tmp/pip-req-build-loss8cdy\n",
            "  Running command git clone -q https://github.com/ska-sa/astrokat.git /tmp/pip-req-build-loss8cdy\n",
            "  Installing build dependencies ... \u001b[?25l\u001b[?25hdone\n",
            "  Getting requirements to build wheel ... \u001b[?25l\u001b[?25hdone\n",
            "  Installing backend dependencies ... \u001b[?25l\u001b[?25hdone\n",
            "    Preparing wheel metadata ... \u001b[?25l\u001b[?25hdone\n",
            "Requirement already satisfied: numpy in /usr/local/lib/python3.7/dist-packages (from astrokat==0.1.dev581+master.32445ac) (1.19.5)\n",
            "Requirement already satisfied: matplotlib in /usr/local/lib/python3.7/dist-packages (from astrokat==0.1.dev581+master.32445ac) (3.2.2)\n",
            "Collecting pyephem\n",
            "  Downloading https://files.pythonhosted.org/packages/8e/02/1eade827452880961bc4657df24f72e7a76d764abff3e666433e1c8d1980/pyephem-9.99.tar.gz\n",
            "Collecting katpoint\n",
            "\u001b[?25l  Downloading https://files.pythonhosted.org/packages/f4/ef/acc4889c943e58386d05127e5b907f209320cd5f0de124c2b4c5c5626cce/katpoint-0.9-py2.py3-none-any.whl (94kB)\n",
            "\u001b[K     |████████████████████████████████| 102kB 4.1MB/s \n",
            "\u001b[?25hRequirement already satisfied: pyyaml in /usr/local/lib/python3.7/dist-packages (from astrokat==0.1.dev581+master.32445ac) (3.13)\n",
            "Requirement already satisfied: python-dateutil>=2.1 in /usr/local/lib/python3.7/dist-packages (from matplotlib->astrokat==0.1.dev581+master.32445ac) (2.8.1)\n",
            "Requirement already satisfied: kiwisolver>=1.0.1 in /usr/local/lib/python3.7/dist-packages (from matplotlib->astrokat==0.1.dev581+master.32445ac) (1.3.1)\n",
            "Requirement already satisfied: pyparsing!=2.0.4,!=2.1.2,!=2.1.6,>=2.0.1 in /usr/local/lib/python3.7/dist-packages (from matplotlib->astrokat==0.1.dev581+master.32445ac) (2.4.7)\n",
            "Requirement already satisfied: cycler>=0.10 in /usr/local/lib/python3.7/dist-packages (from matplotlib->astrokat==0.1.dev581+master.32445ac) (0.10.0)\n",
            "Requirement already satisfied: ephem in /usr/local/lib/python3.7/dist-packages (from pyephem->astrokat==0.1.dev581+master.32445ac) (3.7.7.1)\n",
            "Requirement already satisfied: future in /usr/local/lib/python3.7/dist-packages (from katpoint->astrokat==0.1.dev581+master.32445ac) (0.16.0)\n",
            "Requirement already satisfied: six>=1.5 in /usr/local/lib/python3.7/dist-packages (from python-dateutil>=2.1->matplotlib->astrokat==0.1.dev581+master.32445ac) (1.15.0)\n",
            "Building wheels for collected packages: astrokat\n",
            "  Building wheel for astrokat (PEP 517) ... \u001b[?25l\u001b[?25hdone\n",
            "  Created wheel for astrokat: filename=astrokat-0.1.dev581+master.32445ac-cp37-none-any.whl size=57703 sha256=6dff94f974290fda2f34e25ae242c35c01a9c86a4ae5462a66ccac622e4351cf\n",
            "  Stored in directory: /tmp/pip-ephem-wheel-cache-i5a600c_/wheels/4c/42/c4/982808ef2b9b2d88f345d5e8b81c563a18023a782b006c3ec8\n",
            "Successfully built astrokat\n",
            "Building wheels for collected packages: pyephem\n",
            "  Building wheel for pyephem (setup.py) ... \u001b[?25l\u001b[?25hdone\n",
            "  Created wheel for pyephem: filename=pyephem-9.99-cp37-none-any.whl size=1570 sha256=e1a8e4a5aba9f549a5d5bd4d13de8b04222bf027f1e96a3e45c204124972e023\n",
            "  Stored in directory: /root/.cache/pip/wheels/9d/c2/8d/c7117f6ac25cad94939c5dbbddbb4ba312e0b808edf11912a6\n",
            "Successfully built pyephem\n",
            "Installing collected packages: pyephem, katpoint, astrokat\n",
            "Successfully installed astrokat-0.1.dev581+master.32445ac katpoint-0.9 pyephem-9.99\n"
          ],
          "name": "stdout"
        }
      ]
    },
    {
      "cell_type": "code",
      "metadata": {
        "id": "TG0ITwqkUeTw",
        "colab": {
          "base_uri": "https://localhost:8080/"
        },
        "outputId": "7c178b98-00be-44ab-d091-bd302f82b840"
      },
      "source": [
        "!git clone https://github.com/ska-sa/astrokat.git"
      ],
      "execution_count": 2,
      "outputs": [
        {
          "output_type": "stream",
          "text": [
            "Cloning into 'astrokat'...\n",
            "remote: Enumerating objects: 185, done.\u001b[K\n",
            "remote: Counting objects: 100% (185/185), done.\u001b[K\n",
            "remote: Compressing objects: 100% (118/118), done.\u001b[K\n",
            "remote: Total 2733 (delta 105), reused 126 (delta 66), pack-reused 2548\u001b[K\n",
            "Receiving objects: 100% (2733/2733), 5.39 MiB | 11.40 MiB/s, done.\n",
            "Resolving deltas: 100% (1890/1890), done.\n"
          ],
          "name": "stdout"
        }
      ]
    },
    {
      "cell_type": "code",
      "metadata": {
        "id": "nSIk4TacUeQe"
      },
      "source": [
        "# remove between the comment after merge"
      ],
      "execution_count": 3,
      "outputs": []
    },
    {
      "cell_type": "code",
      "metadata": {
        "id": "eEAZYVJJUeMo",
        "colab": {
          "base_uri": "https://localhost:8080/"
        },
        "outputId": "3f527d17-768a-4306-8839-652ca0ebf182"
      },
      "source": [
        "!pip install git+https://github.com/rubyvanrooyen/astrokat.git@colab_helper_interface\n",
        "!git clone --single-branch --branch colab_helper_interface https://github.com/rubyvanrooyen/astrokat.git"
      ],
      "execution_count": 1,
      "outputs": [
        {
          "output_type": "stream",
          "text": [
            "Collecting git+https://github.com/rubyvanrooyen/astrokat.git@colab_helper_interface\n",
            "  Cloning https://github.com/rubyvanrooyen/astrokat.git (to revision colab_helper_interface) to /tmp/pip-req-build-00sunozd\n",
            "  Running command git clone -q https://github.com/rubyvanrooyen/astrokat.git /tmp/pip-req-build-00sunozd\n",
            "  Running command git checkout -b colab_helper_interface --track origin/colab_helper_interface\n",
            "  Switched to a new branch 'colab_helper_interface'\n",
            "  Branch 'colab_helper_interface' set up to track remote branch 'colab_helper_interface' from 'origin'.\n",
            "  Installing build dependencies ... \u001b[?25l\u001b[?25hdone\n",
            "  Getting requirements to build wheel ... \u001b[?25l\u001b[?25hdone\n",
            "  Installing backend dependencies ... \u001b[?25l\u001b[?25hdone\n",
            "    Preparing wheel metadata ... \u001b[?25l\u001b[?25hdone\n",
            "Requirement already satisfied: numpy in /usr/local/lib/python3.7/dist-packages (from astrokat==0.1.dev605+colab.helper.interface.bdbbe25) (1.19.5)\n",
            "Requirement already satisfied: pyyaml in /usr/local/lib/python3.7/dist-packages (from astrokat==0.1.dev605+colab.helper.interface.bdbbe25) (3.13)\n",
            "Requirement already satisfied: astropy in /usr/local/lib/python3.7/dist-packages (from astrokat==0.1.dev605+colab.helper.interface.bdbbe25) (4.2)\n",
            "Collecting pyephem\n",
            "  Downloading https://files.pythonhosted.org/packages/8e/02/1eade827452880961bc4657df24f72e7a76d764abff3e666433e1c8d1980/pyephem-9.99.tar.gz\n",
            "Collecting katpoint\n",
            "\u001b[?25l  Downloading https://files.pythonhosted.org/packages/f4/ef/acc4889c943e58386d05127e5b907f209320cd5f0de124c2b4c5c5626cce/katpoint-0.9-py2.py3-none-any.whl (94kB)\n",
            "\u001b[K     |████████████████████████████████| 102kB 3.7MB/s \n",
            "\u001b[?25hRequirement already satisfied: matplotlib in /usr/local/lib/python3.7/dist-packages (from astrokat==0.1.dev605+colab.helper.interface.bdbbe25) (3.2.2)\n",
            "Requirement already satisfied: pyerfa in /usr/local/lib/python3.7/dist-packages (from astropy->astrokat==0.1.dev605+colab.helper.interface.bdbbe25) (1.7.2)\n",
            "Requirement already satisfied: ephem in /usr/local/lib/python3.7/dist-packages (from pyephem->astrokat==0.1.dev605+colab.helper.interface.bdbbe25) (3.7.7.1)\n",
            "Requirement already satisfied: future in /usr/local/lib/python3.7/dist-packages (from katpoint->astrokat==0.1.dev605+colab.helper.interface.bdbbe25) (0.16.0)\n",
            "Requirement already satisfied: pyparsing!=2.0.4,!=2.1.2,!=2.1.6,>=2.0.1 in /usr/local/lib/python3.7/dist-packages (from matplotlib->astrokat==0.1.dev605+colab.helper.interface.bdbbe25) (2.4.7)\n",
            "Requirement already satisfied: kiwisolver>=1.0.1 in /usr/local/lib/python3.7/dist-packages (from matplotlib->astrokat==0.1.dev605+colab.helper.interface.bdbbe25) (1.3.1)\n",
            "Requirement already satisfied: python-dateutil>=2.1 in /usr/local/lib/python3.7/dist-packages (from matplotlib->astrokat==0.1.dev605+colab.helper.interface.bdbbe25) (2.8.1)\n",
            "Requirement already satisfied: cycler>=0.10 in /usr/local/lib/python3.7/dist-packages (from matplotlib->astrokat==0.1.dev605+colab.helper.interface.bdbbe25) (0.10.0)\n",
            "Requirement already satisfied: six>=1.5 in /usr/local/lib/python3.7/dist-packages (from python-dateutil>=2.1->matplotlib->astrokat==0.1.dev605+colab.helper.interface.bdbbe25) (1.15.0)\n",
            "Building wheels for collected packages: astrokat\n",
            "  Building wheel for astrokat (PEP 517) ... \u001b[?25l\u001b[?25hdone\n",
            "  Created wheel for astrokat: filename=astrokat-0.1.dev605+colab.helper.interface.bdbbe25-cp37-none-any.whl size=58616 sha256=526ab99a03118e1e1aaf82fdc995c96e52469917d1980d82e236967bc63b346b\n",
            "  Stored in directory: /tmp/pip-ephem-wheel-cache-p839b3el/wheels/27/65/25/9b35b6d914159420fb2ae154028e96a10c7130646828e1663b\n",
            "Successfully built astrokat\n",
            "Building wheels for collected packages: pyephem\n",
            "  Building wheel for pyephem (setup.py) ... \u001b[?25l\u001b[?25hdone\n",
            "  Created wheel for pyephem: filename=pyephem-9.99-cp37-none-any.whl size=1570 sha256=196988f63be6944a34e26daa295d0f9769096aab2fad07b38fd6ef6eaebd137f\n",
            "  Stored in directory: /root/.cache/pip/wheels/9d/c2/8d/c7117f6ac25cad94939c5dbbddbb4ba312e0b808edf11912a6\n",
            "Successfully built pyephem\n",
            "Installing collected packages: pyephem, katpoint, astrokat\n",
            "Successfully installed astrokat-0.1.dev605+colab.helper.interface.bdbbe25 katpoint-0.9 pyephem-9.99\n",
            "Cloning into 'astrokat'...\n",
            "remote: Enumerating objects: 593, done.\u001b[K\n",
            "remote: Counting objects: 100% (593/593), done.\u001b[K\n",
            "remote: Compressing objects: 100% (238/238), done.\u001b[K\n",
            "remote: Total 2782 (delta 401), reused 520 (delta 354), pack-reused 2189\u001b[K\n",
            "Receiving objects: 100% (2782/2782), 5.39 MiB | 25.07 MiB/s, done.\n",
            "Resolving deltas: 100% (1914/1914), done.\n"
          ],
          "name": "stdout"
        }
      ]
    },
    {
      "cell_type": "code",
      "metadata": {
        "id": "TtJAT_8OUeIr"
      },
      "source": [
        "# remove between the comment after merge"
      ],
      "execution_count": 5,
      "outputs": []
    },
    {
      "cell_type": "code",
      "metadata": {
        "id": "BhFucSNtUeCG"
      },
      "source": [
        "!ln -s /content/astrokat/scripts/astrokat-lst.py lstcals.py"
      ],
      "execution_count": 2,
      "outputs": []
    },
    {
      "cell_type": "code",
      "metadata": {
        "id": "a75A8cUeUd_B"
      },
      "source": [
        "from datetime import datetime\n",
        "import astrokat\n",
        "import lstcals"
      ],
      "execution_count": 3,
      "outputs": []
    },
    {
      "cell_type": "markdown",
      "metadata": {
        "id": "Fn_leHR59_v7"
      },
      "source": [
        "## MeerKAT LST for a given UTC date and time\n",
        "\n",
        "`astrokat-lst.py --date '2018-08-06 12:34'`"
      ]
    },
    {
      "cell_type": "code",
      "metadata": {
        "id": "CHl7Qy706Bv3",
        "cellView": "form"
      },
      "source": [
        "date_input = '2018-08-06' #@param {type:\"date\"}\n",
        "hour =  12#@param {type:\"integer\"}\n",
        "minute =  34#@param {type:\"integer\"}"
      ],
      "execution_count": 6,
      "outputs": []
    },
    {
      "cell_type": "code",
      "metadata": {
        "id": "gB1YkhNO_A1d",
        "colab": {
          "base_uri": "https://localhost:8080/"
        },
        "outputId": "7b23ec27-24f3-4abe-880b-e53f88bac2bc"
      },
      "source": [
        "date_str = lstcals.longformat_date(f'{date_input} {hour}:{minute}')\n",
        "print(date_str)\n",
        "utc_datetime = datetime.strptime(date_str, \"%Y-%m-%d %H:%M\")\n",
        "print(lstcals.date2lst(utc_datetime))"
      ],
      "execution_count": 7,
      "outputs": [
        {
          "output_type": "stream",
          "text": [
            "2018-08-06 12:34\n",
            "At 2018/8/6 12:34:00Z MeerKAT LST will be 10:59:45.92\n"
          ],
          "name": "stdout"
        }
      ]
    },
    {
      "cell_type": "markdown",
      "metadata": {
        "id": "PG8JjXGGVANO"
      },
      "source": [
        "## Calculate per target rise and set LST times\n",
        "\n",
        "`astrokat-lst.py --target 17:22:27.46877 -38:12:09.4023`"
      ]
    },
    {
      "cell_type": "code",
      "metadata": {
        "id": "uyBQQ1POUd3_",
        "cellView": "form"
      },
      "source": [
        "RA = '17:22:27.46877' #@param {type:\"string\"}\n",
        "Decl = '-38:12:09.4023' #@param {type:\"string\"}"
      ],
      "execution_count": 8,
      "outputs": []
    },
    {
      "cell_type": "code",
      "metadata": {
        "id": "h9K4IBthUdwD",
        "colab": {
          "base_uri": "https://localhost:8080/"
        },
        "outputId": "292e6004-123e-43bb-918f-ec48b7946bc9"
      },
      "source": [
        "target_coord = [RA, Decl]\n",
        "print(lstcals.targetlst(target_coord))"
      ],
      "execution_count": 9,
      "outputs": [
        {
          "output_type": "stream",
          "text": [
            "Target (17:22:27.46877 -38:12:09.4023) rises at LST 11:32:44.70 and sets at LST 23:15:03.92\n"
          ],
          "name": "stdout"
        }
      ]
    },
    {
      "cell_type": "markdown",
      "metadata": {
        "id": "eiLWjOUeVDOw"
      },
      "source": [
        "## Simple tool to figure out when an observation will start given the LST hour\n",
        "`astrokat-lst.py --lst 10.6 --date 2018-08-06`"
      ]
    },
    {
      "cell_type": "code",
      "metadata": {
        "id": "PN1B_JAtUdmM",
        "cellView": "form"
      },
      "source": [
        "date_input = '2018-08-06' #@param {type:\"date\"}\n",
        "lst =  10.6 #@param {type:\"number\"}"
      ],
      "execution_count": 10,
      "outputs": []
    },
    {
      "cell_type": "code",
      "metadata": {
        "id": "ER81vV-9UdMm",
        "colab": {
          "base_uri": "https://localhost:8080/"
        },
        "outputId": "29d104e9-8c80-48da-80c7-896a9fe0d895"
      },
      "source": [
        "print(lstcals.lst2datetime(lst, date_input))"
      ],
      "execution_count": 11,
      "outputs": [
        {
          "output_type": "stream",
          "text": [
            "2018-08-06 10.6 LST corresponds to 2018-08-06 12:10:17.973608Z UTC\n"
          ],
          "name": "stdout"
        }
      ]
    },
    {
      "cell_type": "code",
      "metadata": {
        "id": "qIU7XX1zpLB5"
      },
      "source": [
        ""
      ],
      "execution_count": null,
      "outputs": []
    }
  ]
}